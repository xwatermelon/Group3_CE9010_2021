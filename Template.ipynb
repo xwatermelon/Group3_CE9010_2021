{
 "nbformat": 4,
 "nbformat_minor": 2,
 "metadata": {
  "language_info": {
   "name": "python",
   "codemirror_mode": {
    "name": "ipython",
    "version": 3
   },
   "version": "3.9.0-final"
  },
  "orig_nbformat": 2,
  "file_extension": ".py",
  "mimetype": "text/x-python",
  "name": "python",
  "npconvert_exporter": "python",
  "pygments_lexer": "ipython3",
  "version": 3,
  "kernelspec": {
   "name": "python3",
   "display_name": "Python 3.9.0 64-bit",
   "metadata": {
    "interpreter": {
     "hash": "0a84f4e9513e11ca67866431d8df20f43fe616bff8acff9def79f28cd0bb3c91"
    }
   }
  }
 },
 "cells": [
  {
   "cell_type": "markdown",
   "metadata": {},
   "source": [
    "# CE9010 Introduction To Data Analysis\n",
    "\n",
    "## Group 3\n",
    "\n",
    "Student Name  |  Matric No  \n",
    "---|---\n",
    "   |   \n",
    "   |   \n",
    "   |   \n",
    "\n",
    "---\n",
    "\n",
    "# Problem Statement\n",
    "\n",
    "1. `inline code` - Point 1\n",
    "2. `inline code` - Point 2\n",
    "3. `inline code` - Point 3\n",
    "\n",
    "> block quote\n",
    "\n",
    "---\n",
    "\n",
    "# Context\n",
    "\n",
    "**References:**\n",
    "- [Reference 1](website)\n",
    "- [Reference 2](website)\n",
    "- [Reference 3](website)\n",
    "\n",
    "---"
   ]
  },
  {
   "source": [
    "# Table of Contents\n",
    "\n",
    "1. [Setup](#1--setup)\n",
    "2. [Dataset Summaries](#2--dataset-summaries)\n",
    "3. [Exploratory Data Analysis](#3--exploratory-data-analysis)\n",
    "4. [Data Pre-Preprocessing](#4--data-pre-processing)\n",
    "5. [Data Analysis](#5--data-analysis)\n",
    "6. [Results Analysis](#6--results-analysis)\n",
    "\n",
    "---"
   ],
   "cell_type": "markdown",
   "metadata": {}
  },
  {
   "cell_type": "markdown",
   "metadata": {},
   "source": [
    "# 1 | Setup"
   ]
  },
  {
   "cell_type": "code",
   "execution_count": null,
   "metadata": {},
   "outputs": [],
   "source": [
    "# import core modules\n",
    "import numpy as np # NumPy: Arrays and Matrices\n",
    "import seaborn as sb # Seaborn: Statistical Data Visualization\n",
    "import matplotlib.pyplot as plt # Matplotlib: Python Plotting\n",
    "import re # RegEx\n",
    "\n",
    "# import ML models\n"
   ]
  },
  {
   "cell_type": "code",
   "execution_count": null,
   "metadata": {},
   "outputs": [],
   "source": [
    "# Data Acquisition"
   ]
  },
  {
   "cell_type": "markdown",
   "metadata": {},
   "source": [
    "# 2 | Dataset Summaries "
   ]
  },
  {
   "cell_type": "code",
   "execution_count": null,
   "metadata": {},
   "outputs": [],
   "source": [
    "# summary, shape, dtypes"
   ]
  },
  {
   "cell_type": "markdown",
   "metadata": {},
   "source": [
    "# 3 | Exploratory Data Analysis"
   ]
  },
  {
   "cell_type": "markdown",
   "metadata": {},
   "source": [
    "## Correlation matrix, etc"
   ]
  },
  {
   "cell_type": "markdown",
   "metadata": {},
   "source": [
    "## Boxplot"
   ]
  },
  {
   "cell_type": "markdown",
   "metadata": {},
   "source": [
    "# 4 | Data Pre-Processing"
   ]
  },
  {
   "cell_type": "markdown",
   "metadata": {},
   "source": [
    "## 4.1 | Cleaning Dataset"
   ]
  },
  {
   "cell_type": "markdown",
   "metadata": {},
   "source": [
    "## 4.2 | Conversion of Types of Variables: "
   ]
  },
  {
   "cell_type": "markdown",
   "metadata": {},
   "source": [
    "## 4.3 | Feature Selection"
   ]
  },
  {
   "cell_type": "markdown",
   "metadata": {},
   "source": [
    "## 4.4 | One Hot Encoding"
   ]
  },
  {
   "cell_type": "markdown",
   "metadata": {},
   "source": [
    "# 5 | Data Analysis"
   ]
  },
  {
   "cell_type": "markdown",
   "metadata": {},
   "source": [
    "# 6 | Results Analysis"
   ]
  }
 ]
}