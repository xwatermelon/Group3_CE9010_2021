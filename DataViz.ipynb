{
 "cells": [
  {
   "cell_type": "markdown",
   "metadata": {},
   "source": [
    "### Dependencies: \n",
    "- Pandas\n",
    "- Plotly\n",
    "\n",
    "### Check if dependencies are installed:\n",
    "\n",
    "1. In an Anaconda Terminal/Command Prompt, type the following lines to check if the dependencies are installed:\n",
    "> conda list python <br>\n",
    "> conda list plotly\n",
    "\n",
    "If the modules show up in the list of packeges installed in the current environment, proceed to the start of the notebook. <br> If not, proceed to Step 2. \n",
    "\n",
    "2. In the Anaconda Terminal/Command Prompt, install the dependencies:\n",
    "> conda install -y pandas plotly\n",
    "\n",
    "3. Once the installation finishes, proceed to the start of the notebook."
   ]
  },
  {
   "cell_type": "markdown",
   "metadata": {},
   "source": [
    "# Data Visualization\n",
    "---"
   ]
  },
  {
   "cell_type": "code",
   "execution_count": 1,
   "metadata": {},
   "outputs": [],
   "source": [
    "# Import required module\n",
    "import pandas as pd\n",
    "import plotly.express as px\n",
    "import os\n",
    "\n",
    "if not os.path.exists(\"images\"):\n",
    "    os.mkdir(\"images\")"
   ]
  },
  {
   "cell_type": "code",
   "execution_count": 2,
   "metadata": {},
   "outputs": [
    {
     "output_type": "stream",
     "name": "stdout",
     "text": [
      "(88197, 13)\n"
     ]
    },
    {
     "output_type": "execute_result",
     "data": {
      "text/plain": [
       "   latitude  longitude  bright_ti4  scan  track    acq_date  acq_time  \\\n",
       "0  -9.54568  148.59132       336.6  0.46   0.39  2021-03-16       324   \n",
       "1  -8.27111  148.19341       331.1  0.46   0.39  2021-03-16       324   \n",
       "2  -8.26811  148.16299       334.8  0.47   0.39  2021-03-16       324   \n",
       "3  -5.96303  151.10936       336.8  0.38   0.36  2021-03-16       324   \n",
       "4  -6.34173  145.21974       340.7  0.44   0.46  2021-03-16       324   \n",
       "\n",
       "   satellite confidence version  bright_ti5  frp daynight  \n",
       "0          1    nominal  2.0NRT       296.5  8.6        D  \n",
       "1          1        low  2.0NRT       293.0  3.4        D  \n",
       "2          1        low  2.0NRT       294.0  3.2        D  \n",
       "3          1    nominal  2.0NRT       296.6  3.5        D  \n",
       "4          1    nominal  2.0NRT       291.6  8.0        D  "
      ],
      "text/html": "<div>\n<style scoped>\n    .dataframe tbody tr th:only-of-type {\n        vertical-align: middle;\n    }\n\n    .dataframe tbody tr th {\n        vertical-align: top;\n    }\n\n    .dataframe thead th {\n        text-align: right;\n    }\n</style>\n<table border=\"1\" class=\"dataframe\">\n  <thead>\n    <tr style=\"text-align: right;\">\n      <th></th>\n      <th>latitude</th>\n      <th>longitude</th>\n      <th>bright_ti4</th>\n      <th>scan</th>\n      <th>track</th>\n      <th>acq_date</th>\n      <th>acq_time</th>\n      <th>satellite</th>\n      <th>confidence</th>\n      <th>version</th>\n      <th>bright_ti5</th>\n      <th>frp</th>\n      <th>daynight</th>\n    </tr>\n  </thead>\n  <tbody>\n    <tr>\n      <th>0</th>\n      <td>-9.54568</td>\n      <td>148.59132</td>\n      <td>336.6</td>\n      <td>0.46</td>\n      <td>0.39</td>\n      <td>2021-03-16</td>\n      <td>324</td>\n      <td>1</td>\n      <td>nominal</td>\n      <td>2.0NRT</td>\n      <td>296.5</td>\n      <td>8.6</td>\n      <td>D</td>\n    </tr>\n    <tr>\n      <th>1</th>\n      <td>-8.27111</td>\n      <td>148.19341</td>\n      <td>331.1</td>\n      <td>0.46</td>\n      <td>0.39</td>\n      <td>2021-03-16</td>\n      <td>324</td>\n      <td>1</td>\n      <td>low</td>\n      <td>2.0NRT</td>\n      <td>293.0</td>\n      <td>3.4</td>\n      <td>D</td>\n    </tr>\n    <tr>\n      <th>2</th>\n      <td>-8.26811</td>\n      <td>148.16299</td>\n      <td>334.8</td>\n      <td>0.47</td>\n      <td>0.39</td>\n      <td>2021-03-16</td>\n      <td>324</td>\n      <td>1</td>\n      <td>low</td>\n      <td>2.0NRT</td>\n      <td>294.0</td>\n      <td>3.2</td>\n      <td>D</td>\n    </tr>\n    <tr>\n      <th>3</th>\n      <td>-5.96303</td>\n      <td>151.10936</td>\n      <td>336.8</td>\n      <td>0.38</td>\n      <td>0.36</td>\n      <td>2021-03-16</td>\n      <td>324</td>\n      <td>1</td>\n      <td>nominal</td>\n      <td>2.0NRT</td>\n      <td>296.6</td>\n      <td>3.5</td>\n      <td>D</td>\n    </tr>\n    <tr>\n      <th>4</th>\n      <td>-6.34173</td>\n      <td>145.21974</td>\n      <td>340.7</td>\n      <td>0.44</td>\n      <td>0.46</td>\n      <td>2021-03-16</td>\n      <td>324</td>\n      <td>1</td>\n      <td>nominal</td>\n      <td>2.0NRT</td>\n      <td>291.6</td>\n      <td>8.0</td>\n      <td>D</td>\n    </tr>\n  </tbody>\n</table>\n</div>"
     },
     "metadata": {},
     "execution_count": 2
    }
   ],
   "source": [
    "# Import data from the Active Fire Dataset, VIIRS 375m / NOAA-20\n",
    "data = pd.read_csv(\"https://firms2.modaps.eosdis.nasa.gov/data/active_fire/noaa-20-viirs-c2/csv/J1_VIIRS_C2_SouthEast_Asia_7d.csv\",sep=',')\n",
    "print (data.shape) # dimensions\n",
    "data[:5]"
   ]
  },
  {
   "cell_type": "code",
   "execution_count": 3,
   "metadata": {},
   "outputs": [
    {
     "output_type": "execute_result",
     "data": {
      "text/plain": [
       "latitude      float64\n",
       "longitude     float64\n",
       "bright_ti4    float64\n",
       "scan          float64\n",
       "track         float64\n",
       "acq_date       object\n",
       "acq_time        int64\n",
       "satellite       int64\n",
       "confidence     object\n",
       "version        object\n",
       "bright_ti5    float64\n",
       "frp           float64\n",
       "daynight       object\n",
       "dtype: object"
      ]
     },
     "metadata": {},
     "execution_count": 3
    }
   ],
   "source": [
    "# Check datatypes\n",
    "data.dtypes"
   ]
  },
  {
   "cell_type": "code",
   "execution_count": 4,
   "metadata": {},
   "outputs": [
    {
     "output_type": "execute_result",
     "data": {
      "text/plain": [
       "latitude      0\n",
       "longitude     0\n",
       "bright_ti4    0\n",
       "scan          0\n",
       "track         0\n",
       "acq_date      0\n",
       "acq_time      0\n",
       "satellite     0\n",
       "confidence    0\n",
       "version       0\n",
       "bright_ti5    0\n",
       "frp           0\n",
       "daynight      0\n",
       "dtype: int64"
      ]
     },
     "metadata": {},
     "execution_count": 4
    }
   ],
   "source": [
    "# Check for null values (values contain no info and can be removed)\n",
    "data.isnull().sum()"
   ]
  },
  {
   "cell_type": "code",
   "execution_count": 5,
   "metadata": {},
   "outputs": [
    {
     "output_type": "execute_result",
     "data": {
      "text/plain": [
       "    latitude  longitude  bright_ti4  scan  track  satellite confidence  \\\n",
       "0   -9.54568  148.59132       336.6  0.46   0.39          1    nominal   \n",
       "22  -2.55527  140.13141       346.0  0.43   0.62          1    nominal   \n",
       "21  -3.70964  141.63997       332.6  0.35   0.57          1    nominal   \n",
       "19  -3.82232  143.34030       330.3  0.54   0.51          1    nominal   \n",
       "18  -3.97153  142.65863       339.5  0.60   0.53          1    nominal   \n",
       "\n",
       "   version  bright_ti5  frp daynight              period  \n",
       "0   2.0NRT       296.5  8.6        D 2021-03-16 03:24:00  \n",
       "22  2.0NRT       290.3  5.8        D 2021-03-16 03:24:00  \n",
       "21  2.0NRT       289.6  2.4        D 2021-03-16 03:24:00  \n",
       "19  2.0NRT       289.3  7.3        D 2021-03-16 03:24:00  \n",
       "18  2.0NRT       284.2  7.4        D 2021-03-16 03:24:00  "
      ],
      "text/html": "<div>\n<style scoped>\n    .dataframe tbody tr th:only-of-type {\n        vertical-align: middle;\n    }\n\n    .dataframe tbody tr th {\n        vertical-align: top;\n    }\n\n    .dataframe thead th {\n        text-align: right;\n    }\n</style>\n<table border=\"1\" class=\"dataframe\">\n  <thead>\n    <tr style=\"text-align: right;\">\n      <th></th>\n      <th>latitude</th>\n      <th>longitude</th>\n      <th>bright_ti4</th>\n      <th>scan</th>\n      <th>track</th>\n      <th>satellite</th>\n      <th>confidence</th>\n      <th>version</th>\n      <th>bright_ti5</th>\n      <th>frp</th>\n      <th>daynight</th>\n      <th>period</th>\n    </tr>\n  </thead>\n  <tbody>\n    <tr>\n      <th>0</th>\n      <td>-9.54568</td>\n      <td>148.59132</td>\n      <td>336.6</td>\n      <td>0.46</td>\n      <td>0.39</td>\n      <td>1</td>\n      <td>nominal</td>\n      <td>2.0NRT</td>\n      <td>296.5</td>\n      <td>8.6</td>\n      <td>D</td>\n      <td>2021-03-16 03:24:00</td>\n    </tr>\n    <tr>\n      <th>22</th>\n      <td>-2.55527</td>\n      <td>140.13141</td>\n      <td>346.0</td>\n      <td>0.43</td>\n      <td>0.62</td>\n      <td>1</td>\n      <td>nominal</td>\n      <td>2.0NRT</td>\n      <td>290.3</td>\n      <td>5.8</td>\n      <td>D</td>\n      <td>2021-03-16 03:24:00</td>\n    </tr>\n    <tr>\n      <th>21</th>\n      <td>-3.70964</td>\n      <td>141.63997</td>\n      <td>332.6</td>\n      <td>0.35</td>\n      <td>0.57</td>\n      <td>1</td>\n      <td>nominal</td>\n      <td>2.0NRT</td>\n      <td>289.6</td>\n      <td>2.4</td>\n      <td>D</td>\n      <td>2021-03-16 03:24:00</td>\n    </tr>\n    <tr>\n      <th>19</th>\n      <td>-3.82232</td>\n      <td>143.34030</td>\n      <td>330.3</td>\n      <td>0.54</td>\n      <td>0.51</td>\n      <td>1</td>\n      <td>nominal</td>\n      <td>2.0NRT</td>\n      <td>289.3</td>\n      <td>7.3</td>\n      <td>D</td>\n      <td>2021-03-16 03:24:00</td>\n    </tr>\n    <tr>\n      <th>18</th>\n      <td>-3.97153</td>\n      <td>142.65863</td>\n      <td>339.5</td>\n      <td>0.60</td>\n      <td>0.53</td>\n      <td>1</td>\n      <td>nominal</td>\n      <td>2.0NRT</td>\n      <td>284.2</td>\n      <td>7.4</td>\n      <td>D</td>\n      <td>2021-03-16 03:24:00</td>\n    </tr>\n  </tbody>\n</table>\n</div>"
     },
     "metadata": {},
     "execution_count": 5
    }
   ],
   "source": [
    "# Concatenate acquisition date and time into a single column\n",
    "data['period']=data['acq_date']+' '+data['acq_time'].astype(str) # this leaves a df with acq_date and acq_time still there\n",
    "data=data.drop(columns=['acq_date','acq_time'])\n",
    "data['period']=pd.to_datetime(data.period, format='%Y-%m-%d %H%M')\n",
    "data.sort_values(by=['period'], inplace=True) # observe that without this code, time does not flow correctly in the animation\n",
    "data[:5]"
   ]
  },
  {
   "cell_type": "code",
   "execution_count": 6,
   "metadata": {},
   "outputs": [
    {
     "output_type": "execute_result",
     "data": {
      "text/plain": [
       "<IPython.lib.display.IFrame at 0x254b850bdf0>"
      ],
      "text/html": "\n        <iframe\n            width=\"1080\"\n            height=\"760\"\n            src=\"images/animation.html\"\n            frameborder=\"0\"\n            allowfullscreen\n        ></iframe>\n        "
     },
     "metadata": {},
     "execution_count": 6
    }
   ],
   "source": [
    "# Plot animation\n",
    "fig = px.scatter_geo(data, \n",
    "                    lat='latitude', \n",
    "                    lon='longitude', \n",
    "                    scope='asia',\n",
    "                    center={'lat':2.2180,'lon':115.6628}, # centered to SEA\n",
    "                    color='confidence',\n",
    "                    animation_frame=data['period'].astype(str)) \n",
    "fig.write_html('images/animation.html')\n",
    "\n",
    "from IPython.display import IFrame\n",
    "\n",
    "IFrame(src='images/animation.html', width=1080, height=760)"
   ]
  }
 ],
 "metadata": {
  "kernelspec": {
   "display_name": "Python 3",
   "language": "python",
   "name": "python3"
  },
  "language_info": {
   "codemirror_mode": {
    "name": "ipython",
    "version": 3
   },
   "file_extension": ".py",
   "mimetype": "text/x-python",
   "name": "python",
   "nbconvert_exporter": "python",
   "pygments_lexer": "ipython3",
   "version": "3.8.5-final"
  }
 },
 "nbformat": 4,
 "nbformat_minor": 5
}