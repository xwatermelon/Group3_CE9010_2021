{
 "cells": [
  {
   "cell_type": "markdown",
   "id": "b32860ce",
   "metadata": {
    "id": "b32860ce"
   },
   "source": [
    "# CE9010 Introduction To Data Analysis\n",
    "\n",
    "## Group 3\n",
    "\n",
    "Student Name  |  Matric No  \n",
    ":-:|:-:\n",
    "Say Yueyang, Symus|U1922016K   \n",
    "He Zeqing|U1722721G\n",
    "Kwek Yan Qing|U1740743J   \n",
    "\n",
    "---\n",
    "\n",
    "# Background\n",
    "\n",
    "Haze is one major form of air pollution that Singaporeans face annually. The presence of haze is attributed to the forest fires in Sumatra, Indonesia. Due to the increase in demand of commercial crops, Indonesian farmers have resorted to shifting agriculture, which includes the large-scale slash-and-burn of forest land to produce fertile planting grounds. The resulting air pollution is then spread across the region by the climatic phenomenon El Nino, enveloping Singapore in a blanket of haze and affecting the overall health of Singaporeans. In 2020, Indonesia fires torched approximately 207,000 hectares of forests from January to September. While the area is smaller compared to previous years, the burning resulted in a US$5.2 billion cost towards the Indonesian economy, and the occurrence of toxic smog over the city.\n",
    "\n",
    "**References:**\n",
    "- [Haze Pollution](https://eresources.nlb.gov.sg/infopedia/articles/SIP_2013-08-30_185150.html#:~:text=Forest%20fires%20in%20Sumatra%2C%20Indonesia,of%20the%20haze%20in%20Singapore.&text=Strong%20winds%20during%20the%20southwest,such%20fires%20throughout%20Southeast%20Asia.)\n",
    "- [Commentary: Little smoke this haze season – but fires rage on in Indonesia](https://www.channelnewsasia.com/news/commentary/indonesia-forest-fire-peat-haze-palm-oil-jokowi-omnibus-bill-13533700)\n",
    "\n",
    "# Objective\n",
    "\n",
    "The objective of our study is to predict the possible intensity of future hotspots in South East Asia, including Indonesia.\n",
    "Hopefully, this study will be able to support further research in estimating the possibility and severity of the occurrences of haze in Singapore.\n",
    "\n",
    "Our study will be conducted with the relevant data on forest fires in South East Asia. Our dataset is obtained from the National Aeronautics and Space Administration (NASA)'s Fire Information for Resource Management System (FIRMS). It contains both geographical and technical data extracted from the Visible Infrared Imaging Radiometer Suite (VIIRS) sensor aboard their NOAA-20 weather satellite. As the collection of data by NASA FIRMS is still currently ongoing, our dataset is updated daily to ensure the most accurate representation of data possible.\n",
    "\n",
    "The table below describes each data available in our dataset:\n",
    "\n",
    "| Data | Description |\n",
    "| -: | :- |\n",
    "| latitude | Indicates the latitude of fire pixel. |\n",
    "| longitude\t| Indicates the longitude of fire pixel. |\n",
    "| bright_ti4 | Indicates the VIIRS I-4 Channel brightness temperature of the fire pixel. |\n",
    "| scan | Indicates the  Along Scan pixel size. |\n",
    "| track\t| Indicates the Along Track pixel size.  |\n",
    "| acq_date | Indicates the date of the acquired data. |\n",
    "| acq_time | Indicates the time of the acquired data. |\n",
    "| satellite | Indicates if the scan was done by the satellite (boolean values). |\n",
    "| confidence | Indicates the confidence level of the data collected. |\n",
    "| version | Indicates the version and source of data processing. |\n",
    "| bright_ti5 | Indicates the VIIRS I-5 Channel brightness temperature of the fire pixel. |\n",
    "| frp | Indicates the Fire Radiative Power (Detected thermal strength of the fire). |\n",
    "| daynight | Indicates whether if it's daytime fire or nighttime fire. |\n",
    "\n",
    "**References:**\n",
    "- [Fire Information for Resource Management System](https://firms2.modaps.eosdis.nasa.gov/)\n",
    "- [Visible Infrared Imaging Radiometer Suite](https://en.wikipedia.org/wiki/Visible_Infrared_Imaging_Radiometer_Suite)\n",
    "- [Attribute Fields](https://earthdata.nasa.gov/earth-observation-data/near-real-time/firms/v1-vnp14imgt#ed-viirs-375m-attributes)\n",
    "\n",
    "---"
   ]
  },
  {
   "cell_type": "markdown",
   "id": "6de5ee4a",
   "metadata": {
    "id": "6de5ee4a"
   },
   "source": [
    "# Table of Contents\n",
    "\n",
    "1. [Setup](#1-|-Setup)\n",
    "2. [Dataset Summaries](#2-|-Dataset-Summaries)\n",
    "3. [Exploratory Data Analysis](#3-|-Exploratory-Data-Analysis)\n",
    "4. [Data Pre-Preprocessing](#4-|-Data-Pre-Processing)\n",
    "5. [Data Analysis](#5-|-Data-Analysis)\n",
    "6. [Results Analysis](#6-|-Results-Analysis)"
   ]
  },
  {
   "cell_type": "markdown",
   "id": "d76f3246",
   "metadata": {
    "id": "d76f3246"
   },
   "source": [
    "# 1 | Setup "
   ]
  },
  {
   "cell_type": "markdown",
   "id": "16ffcd39",
   "metadata": {
    "id": "16ffcd39"
   },
   "source": [
    "1. Ensure that the environment.yml file accompanying this notebook is located in the same directory as the notebook. <br><br>\n",
    "2. Open Anaconda Prompt, and in Anaconda Prompt, navigate to the directory where the notebook was downloaded. <br>\n",
    "3. In Anaconda Prompt, enter the following line of code:\n",
    "> conda env create -f environment.yml\n",
    "\n",
    "4. In Anaconda Prompt, enter the following line of code:\n",
    "> conda info --envs\n",
    "\n",
    "If installation of the environment is successful, you will see the environment 'CE9010_2021_Group3' listed in the list of environments.\n",
    "\n",
    "5. Activate the notebook: \n",
    "> conda activate CE9010_2021_Group3\n",
    "\n",
    "6. Run Jupyter Notebook \n",
    "> jupyter notebook"
   ]
  },
  {
   "cell_type": "code",
   "execution_count": 21,
   "id": "e8da0730",
   "metadata": {
    "executionInfo": {
     "elapsed": 2451,
     "status": "ok",
     "timestamp": 1618017818709,
     "user": {
      "displayName": "qing 1",
      "photoUrl": "",
      "userId": "17349177959796089200"
     },
     "user_tz": -480
    },
    "id": "e8da0730"
   },
   "outputs": [],
   "source": [
    "#import sys\n",
    "#!conda install --yes --prefix {sys.prefix} numpy\n",
    "#!conda install --yes --prefix {sys.prefix} seaborn\n",
    "#!conda install --yes --prefix {sys.prefix} plotly\n",
    "#!conda install --yes --prefix {sys.prefix} pandas"
   ]
  },
  {
   "cell_type": "code",
   "execution_count": 22,
   "id": "tBN61h4B-MUD",
   "metadata": {
    "colab": {
     "base_uri": "https://localhost:8080/"
    },
    "executionInfo": {
     "elapsed": 28145,
     "status": "ok",
     "timestamp": 1618022449550,
     "user": {
      "displayName": "qing 1",
      "photoUrl": "",
      "userId": "17349177959796089200"
     },
     "user_tz": -480
    },
    "id": "tBN61h4B-MUD",
    "outputId": "39944793-af65-4c01-8604-8a35e64ab3ee"
   },
   "outputs": [],
   "source": [
    "# Install required conda packages in the current Jupyter kernel\n",
    "# for use on google colab, since it doesn't recognize conda packages\n",
    "# import sys\n",
    "# !pip install numpy\n",
    "# !pip install seaborn\n",
    "# !pip install plotly\n",
    "# !pip install pandas\n",
    "# !pip install geopandas\n",
    "# !pip install rtree\n",
    "# !pip install pygeos\n",
    "# !pip install imageio\n",
    "# !pip3 install rtree"
   ]
  },
  {
   "cell_type": "code",
   "execution_count": 23,
   "id": "47d2e636",
   "metadata": {
    "colab": {
     "base_uri": "https://localhost:8080/"
    },
    "executionInfo": {
     "elapsed": 940,
     "status": "ok",
     "timestamp": 1618021965182,
     "user": {
      "displayName": "qing 1",
      "photoUrl": "",
      "userId": "17349177959796089200"
     },
     "user_tz": -480
    },
    "id": "47d2e636",
    "outputId": "75f85379-6e56-4426-9a38-161d486fdeac"
   },
   "outputs": [
    {
     "name": "stdout",
     "output_type": "stream",
     "text": [
      "One or more modules not imported!\n",
      "Please check that all dependencies are installed.\n"
     ]
    }
   ],
   "source": [
    "# Import required modules\n",
    "import os\n",
    "try:\n",
    "    import pandas as pd\n",
    "    import plotly.express as px\n",
    "    from matplotlib import pyplot as plt\n",
    "    from IPython.display import IFrame,Image\n",
    "    import seaborn as sns\n",
    "    import numpy as np\n",
    "    import imageio\n",
    "    import geopandas as gpd\n",
    "    import graphviz\n",
    "\n",
    "    print (\"All modules imported successfully.\")\n",
    "except ImportError:\n",
    "    print (\"One or more modules not imported!\")\n",
    "    print (\"Please check that all dependencies are installed.\")\n",
    "\n",
    "# Directory to store local content for loading of interactive images\n",
    "if not os.path.exists(\"content\"):\n",
    "    os.mkdir(\"content\")\n",
    "# Clean up past images\n",
    "else:\n",
    "    for f in os.listdir('./content'):\n",
    "        os.remove(os.path.join('content', f))"
   ]
  },
  {
   "cell_type": "markdown",
   "id": "1508e32f",
   "metadata": {
    "id": "1508e32f"
   },
   "source": [
    "# 2 | Dataset Summaries "
   ]
  },
  {
   "cell_type": "code",
   "execution_count": 24,
   "id": "97a119dd",
   "metadata": {
    "colab": {
     "base_uri": "https://localhost:8080/",
     "height": 218
    },
    "executionInfo": {
     "elapsed": 1442,
     "status": "ok",
     "timestamp": 1618017928738,
     "user": {
      "displayName": "qing 1",
      "photoUrl": "",
      "userId": "17349177959796089200"
     },
     "user_tz": -480
    },
    "id": "97a119dd",
    "outputId": "29175d8e-bc30-4e01-c5ec-125ec28f6f33"
   },
   "outputs": [
    {
     "name": "stdout",
     "output_type": "stream",
     "text": [
      "(32829, 13)\n"
     ]
    },
    {
     "data": {
      "text/html": [
       "<div>\n",
       "<style scoped>\n",
       "    .dataframe tbody tr th:only-of-type {\n",
       "        vertical-align: middle;\n",
       "    }\n",
       "\n",
       "    .dataframe tbody tr th {\n",
       "        vertical-align: top;\n",
       "    }\n",
       "\n",
       "    .dataframe thead th {\n",
       "        text-align: right;\n",
       "    }\n",
       "</style>\n",
       "<table border=\"1\" class=\"dataframe\">\n",
       "  <thead>\n",
       "    <tr style=\"text-align: right;\">\n",
       "      <th></th>\n",
       "      <th>latitude</th>\n",
       "      <th>longitude</th>\n",
       "      <th>bright_ti4</th>\n",
       "      <th>scan</th>\n",
       "      <th>track</th>\n",
       "      <th>acq_date</th>\n",
       "      <th>acq_time</th>\n",
       "      <th>satellite</th>\n",
       "      <th>confidence</th>\n",
       "      <th>version</th>\n",
       "      <th>bright_ti5</th>\n",
       "      <th>frp</th>\n",
       "      <th>daynight</th>\n",
       "    </tr>\n",
       "  </thead>\n",
       "  <tbody>\n",
       "    <tr>\n",
       "      <th>0</th>\n",
       "      <td>-2.43573</td>\n",
       "      <td>133.13229</td>\n",
       "      <td>328.8</td>\n",
       "      <td>0.44</td>\n",
       "      <td>0.46</td>\n",
       "      <td>2021-04-04</td>\n",
       "      <td>406</td>\n",
       "      <td>1</td>\n",
       "      <td>nominal</td>\n",
       "      <td>2.0NRT</td>\n",
       "      <td>291.3</td>\n",
       "      <td>2.0</td>\n",
       "      <td>D</td>\n",
       "    </tr>\n",
       "    <tr>\n",
       "      <th>1</th>\n",
       "      <td>-2.10197</td>\n",
       "      <td>133.62312</td>\n",
       "      <td>327.6</td>\n",
       "      <td>0.41</td>\n",
       "      <td>0.45</td>\n",
       "      <td>2021-04-04</td>\n",
       "      <td>406</td>\n",
       "      <td>1</td>\n",
       "      <td>nominal</td>\n",
       "      <td>2.0NRT</td>\n",
       "      <td>293.9</td>\n",
       "      <td>1.8</td>\n",
       "      <td>D</td>\n",
       "    </tr>\n",
       "    <tr>\n",
       "      <th>2</th>\n",
       "      <td>-1.07484</td>\n",
       "      <td>131.30426</td>\n",
       "      <td>328.6</td>\n",
       "      <td>0.56</td>\n",
       "      <td>0.52</td>\n",
       "      <td>2021-04-04</td>\n",
       "      <td>406</td>\n",
       "      <td>1</td>\n",
       "      <td>nominal</td>\n",
       "      <td>2.0NRT</td>\n",
       "      <td>290.3</td>\n",
       "      <td>2.7</td>\n",
       "      <td>D</td>\n",
       "    </tr>\n",
       "    <tr>\n",
       "      <th>3</th>\n",
       "      <td>6.24924</td>\n",
       "      <td>125.32748</td>\n",
       "      <td>329.8</td>\n",
       "      <td>0.55</td>\n",
       "      <td>0.68</td>\n",
       "      <td>2021-04-04</td>\n",
       "      <td>412</td>\n",
       "      <td>1</td>\n",
       "      <td>nominal</td>\n",
       "      <td>2.0NRT</td>\n",
       "      <td>297.4</td>\n",
       "      <td>3.4</td>\n",
       "      <td>D</td>\n",
       "    </tr>\n",
       "    <tr>\n",
       "      <th>4</th>\n",
       "      <td>6.25385</td>\n",
       "      <td>125.32911</td>\n",
       "      <td>329.7</td>\n",
       "      <td>0.55</td>\n",
       "      <td>0.68</td>\n",
       "      <td>2021-04-04</td>\n",
       "      <td>412</td>\n",
       "      <td>1</td>\n",
       "      <td>nominal</td>\n",
       "      <td>2.0NRT</td>\n",
       "      <td>296.8</td>\n",
       "      <td>3.9</td>\n",
       "      <td>D</td>\n",
       "    </tr>\n",
       "  </tbody>\n",
       "</table>\n",
       "</div>"
      ],
      "text/plain": [
       "   latitude  longitude  bright_ti4  scan  track    acq_date  acq_time  \\\n",
       "0  -2.43573  133.13229       328.8  0.44   0.46  2021-04-04       406   \n",
       "1  -2.10197  133.62312       327.6  0.41   0.45  2021-04-04       406   \n",
       "2  -1.07484  131.30426       328.6  0.56   0.52  2021-04-04       406   \n",
       "3   6.24924  125.32748       329.8  0.55   0.68  2021-04-04       412   \n",
       "4   6.25385  125.32911       329.7  0.55   0.68  2021-04-04       412   \n",
       "\n",
       "   satellite confidence version  bright_ti5  frp daynight  \n",
       "0          1    nominal  2.0NRT       291.3  2.0        D  \n",
       "1          1    nominal  2.0NRT       293.9  1.8        D  \n",
       "2          1    nominal  2.0NRT       290.3  2.7        D  \n",
       "3          1    nominal  2.0NRT       297.4  3.4        D  \n",
       "4          1    nominal  2.0NRT       296.8  3.9        D  "
      ]
     },
     "execution_count": 24,
     "metadata": {},
     "output_type": "execute_result"
    }
   ],
   "source": [
    "# Data Acquisition\n",
    "# Import data from the Active Fire Dataset, VIIRS 375m / NOAA-20\n",
    "data = pd.read_csv(\"https://firms2.modaps.eosdis.nasa.gov/data/active_fire/noaa-20-viirs-c2/csv/J1_VIIRS_C2_SouthEast_Asia_7d.csv\",sep=',')\n",
    "print (data.shape) # dimensions\n",
    "data[:5]"
   ]
  },
  {
   "cell_type": "code",
   "execution_count": 25,
   "id": "1fc24f7d",
   "metadata": {
    "colab": {
     "base_uri": "https://localhost:8080/",
     "height": 291
    },
    "executionInfo": {
     "elapsed": 960,
     "status": "ok",
     "timestamp": 1618017931900,
     "user": {
      "displayName": "qing 1",
      "photoUrl": "",
      "userId": "17349177959796089200"
     },
     "user_tz": -480
    },
    "id": "1fc24f7d",
    "outputId": "195099f3-121e-42ec-b2b7-ed0da6f502e6"
   },
   "outputs": [
    {
     "data": {
      "text/html": [
       "<div>\n",
       "<style scoped>\n",
       "    .dataframe tbody tr th:only-of-type {\n",
       "        vertical-align: middle;\n",
       "    }\n",
       "\n",
       "    .dataframe tbody tr th {\n",
       "        vertical-align: top;\n",
       "    }\n",
       "\n",
       "    .dataframe thead th {\n",
       "        text-align: right;\n",
       "    }\n",
       "</style>\n",
       "<table border=\"1\" class=\"dataframe\">\n",
       "  <thead>\n",
       "    <tr style=\"text-align: right;\">\n",
       "      <th></th>\n",
       "      <th>latitude</th>\n",
       "      <th>longitude</th>\n",
       "      <th>bright_ti4</th>\n",
       "      <th>scan</th>\n",
       "      <th>track</th>\n",
       "      <th>acq_time</th>\n",
       "      <th>satellite</th>\n",
       "      <th>bright_ti5</th>\n",
       "      <th>frp</th>\n",
       "    </tr>\n",
       "  </thead>\n",
       "  <tbody>\n",
       "    <tr>\n",
       "      <th>count</th>\n",
       "      <td>32829.000000</td>\n",
       "      <td>32829.000000</td>\n",
       "      <td>32829.00000</td>\n",
       "      <td>32829.000000</td>\n",
       "      <td>32829.000000</td>\n",
       "      <td>32829.000000</td>\n",
       "      <td>32829.0</td>\n",
       "      <td>32829.000000</td>\n",
       "      <td>32829.000000</td>\n",
       "    </tr>\n",
       "    <tr>\n",
       "      <th>mean</th>\n",
       "      <td>19.338599</td>\n",
       "      <td>100.412096</td>\n",
       "      <td>335.97388</td>\n",
       "      <td>0.463887</td>\n",
       "      <td>0.484088</td>\n",
       "      <td>821.612050</td>\n",
       "      <td>1.0</td>\n",
       "      <td>298.005580</td>\n",
       "      <td>13.895419</td>\n",
       "    </tr>\n",
       "    <tr>\n",
       "      <th>std</th>\n",
       "      <td>6.113383</td>\n",
       "      <td>8.550761</td>\n",
       "      <td>16.02536</td>\n",
       "      <td>0.085251</td>\n",
       "      <td>0.112861</td>\n",
       "      <td>434.846649</td>\n",
       "      <td>0.0</td>\n",
       "      <td>8.130432</td>\n",
       "      <td>29.829432</td>\n",
       "    </tr>\n",
       "    <tr>\n",
       "      <th>min</th>\n",
       "      <td>-11.062080</td>\n",
       "      <td>88.003890</td>\n",
       "      <td>207.90000</td>\n",
       "      <td>0.320000</td>\n",
       "      <td>0.360000</td>\n",
       "      <td>306.000000</td>\n",
       "      <td>1.0</td>\n",
       "      <td>248.600000</td>\n",
       "      <td>0.000000</td>\n",
       "    </tr>\n",
       "    <tr>\n",
       "      <th>25%</th>\n",
       "      <td>14.976770</td>\n",
       "      <td>93.626430</td>\n",
       "      <td>331.80000</td>\n",
       "      <td>0.400000</td>\n",
       "      <td>0.380000</td>\n",
       "      <td>618.000000</td>\n",
       "      <td>1.0</td>\n",
       "      <td>293.200000</td>\n",
       "      <td>3.100000</td>\n",
       "    </tr>\n",
       "    <tr>\n",
       "      <th>50%</th>\n",
       "      <td>21.253340</td>\n",
       "      <td>97.122490</td>\n",
       "      <td>336.90000</td>\n",
       "      <td>0.440000</td>\n",
       "      <td>0.450000</td>\n",
       "      <td>700.000000</td>\n",
       "      <td>1.0</td>\n",
       "      <td>298.500000</td>\n",
       "      <td>5.700000</td>\n",
       "    </tr>\n",
       "    <tr>\n",
       "      <th>75%</th>\n",
       "      <td>24.056960</td>\n",
       "      <td>106.279860</td>\n",
       "      <td>343.70000</td>\n",
       "      <td>0.520000</td>\n",
       "      <td>0.560000</td>\n",
       "      <td>724.000000</td>\n",
       "      <td>1.0</td>\n",
       "      <td>302.700000</td>\n",
       "      <td>12.100000</td>\n",
       "    </tr>\n",
       "    <tr>\n",
       "      <th>max</th>\n",
       "      <td>30.994860</td>\n",
       "      <td>155.201310</td>\n",
       "      <td>367.00000</td>\n",
       "      <td>0.800000</td>\n",
       "      <td>0.780000</td>\n",
       "      <td>2048.000000</td>\n",
       "      <td>1.0</td>\n",
       "      <td>374.900000</td>\n",
       "      <td>982.200000</td>\n",
       "    </tr>\n",
       "  </tbody>\n",
       "</table>\n",
       "</div>"
      ],
      "text/plain": [
       "           latitude     longitude   bright_ti4          scan         track  \\\n",
       "count  32829.000000  32829.000000  32829.00000  32829.000000  32829.000000   \n",
       "mean      19.338599    100.412096    335.97388      0.463887      0.484088   \n",
       "std        6.113383      8.550761     16.02536      0.085251      0.112861   \n",
       "min      -11.062080     88.003890    207.90000      0.320000      0.360000   \n",
       "25%       14.976770     93.626430    331.80000      0.400000      0.380000   \n",
       "50%       21.253340     97.122490    336.90000      0.440000      0.450000   \n",
       "75%       24.056960    106.279860    343.70000      0.520000      0.560000   \n",
       "max       30.994860    155.201310    367.00000      0.800000      0.780000   \n",
       "\n",
       "           acq_time  satellite    bright_ti5           frp  \n",
       "count  32829.000000    32829.0  32829.000000  32829.000000  \n",
       "mean     821.612050        1.0    298.005580     13.895419  \n",
       "std      434.846649        0.0      8.130432     29.829432  \n",
       "min      306.000000        1.0    248.600000      0.000000  \n",
       "25%      618.000000        1.0    293.200000      3.100000  \n",
       "50%      700.000000        1.0    298.500000      5.700000  \n",
       "75%      724.000000        1.0    302.700000     12.100000  \n",
       "max     2048.000000        1.0    374.900000    982.200000  "
      ]
     },
     "execution_count": 25,
     "metadata": {},
     "output_type": "execute_result"
    }
   ],
   "source": [
    "# Check dataset\n",
    "data.describe()"
   ]
  },
  {
   "cell_type": "code",
   "execution_count": 26,
   "id": "888e576e",
   "metadata": {
    "colab": {
     "base_uri": "https://localhost:8080/"
    },
    "executionInfo": {
     "elapsed": 919,
     "status": "ok",
     "timestamp": 1618017934534,
     "user": {
      "displayName": "qing 1",
      "photoUrl": "",
      "userId": "17349177959796089200"
     },
     "user_tz": -480
    },
    "id": "888e576e",
    "outputId": "c0a28e36-c999-463a-b041-36214b58809e"
   },
   "outputs": [
    {
     "data": {
      "text/plain": [
       "latitude      float64\n",
       "longitude     float64\n",
       "bright_ti4    float64\n",
       "scan          float64\n",
       "track         float64\n",
       "acq_date       object\n",
       "acq_time        int64\n",
       "satellite       int64\n",
       "confidence     object\n",
       "version        object\n",
       "bright_ti5    float64\n",
       "frp           float64\n",
       "daynight       object\n",
       "dtype: object"
      ]
     },
     "execution_count": 26,
     "metadata": {},
     "output_type": "execute_result"
    }
   ],
   "source": [
    "# Check datatypes\n",
    "data.dtypes"
   ]
  },
  {
   "cell_type": "code",
   "execution_count": 27,
   "id": "dadcdcac",
   "metadata": {
    "colab": {
     "base_uri": "https://localhost:8080/"
    },
    "executionInfo": {
     "elapsed": 4446,
     "status": "ok",
     "timestamp": 1618017820758,
     "user": {
      "displayName": "qing 1",
      "photoUrl": "",
      "userId": "17349177959796089200"
     },
     "user_tz": -480
    },
    "id": "dadcdcac",
    "outputId": "81763453-e2a7-42ca-c070-f9e0125d10c8"
   },
   "outputs": [
    {
     "data": {
      "text/plain": [
       "latitude      0\n",
       "longitude     0\n",
       "bright_ti4    0\n",
       "scan          0\n",
       "track         0\n",
       "acq_date      0\n",
       "acq_time      0\n",
       "satellite     0\n",
       "confidence    0\n",
       "version       0\n",
       "bright_ti5    0\n",
       "frp           0\n",
       "daynight      0\n",
       "dtype: int64"
      ]
     },
     "execution_count": 27,
     "metadata": {},
     "output_type": "execute_result"
    }
   ],
   "source": [
    "# Check for null values (values contain no info and can be removed)\n",
    "data.isnull().sum()"
   ]
  },
  {
   "cell_type": "markdown",
   "id": "c31d3625",
   "metadata": {
    "id": "c31d3625"
   },
   "source": [
    "## Pre-visualization cleanup\n",
    "Note that there are no null values --> Data is relatively clean. However, the datatypes of certain columns need to be corrected for appropriate data analysis."
   ]
  },
  {
   "cell_type": "code",
   "execution_count": 28,
   "id": "ea820667",
   "metadata": {
    "colab": {
     "base_uri": "https://localhost:8080/",
     "height": 712
    },
    "executionInfo": {
     "elapsed": 4734,
     "status": "ok",
     "timestamp": 1618017821053,
     "user": {
      "displayName": "qing 1",
      "photoUrl": "",
      "userId": "17349177959796089200"
     },
     "user_tz": -480
    },
    "id": "ea820667",
    "outputId": "f302deae-0ae4-44ac-a39f-e8c3c979ff02"
   },
   "outputs": [
    {
     "data": {
      "text/html": [
       "<div>\n",
       "<style scoped>\n",
       "    .dataframe tbody tr th:only-of-type {\n",
       "        vertical-align: middle;\n",
       "    }\n",
       "\n",
       "    .dataframe tbody tr th {\n",
       "        vertical-align: top;\n",
       "    }\n",
       "\n",
       "    .dataframe thead th {\n",
       "        text-align: right;\n",
       "    }\n",
       "</style>\n",
       "<table border=\"1\" class=\"dataframe\">\n",
       "  <thead>\n",
       "    <tr style=\"text-align: right;\">\n",
       "      <th></th>\n",
       "      <th>latitude</th>\n",
       "      <th>longitude</th>\n",
       "      <th>bright_ti4</th>\n",
       "      <th>scan</th>\n",
       "      <th>track</th>\n",
       "      <th>acq_date</th>\n",
       "      <th>acq_time</th>\n",
       "      <th>confidence</th>\n",
       "      <th>bright_ti5</th>\n",
       "      <th>frp</th>\n",
       "      <th>daynight</th>\n",
       "      <th>period</th>\n",
       "    </tr>\n",
       "  </thead>\n",
       "  <tbody>\n",
       "    <tr>\n",
       "      <th>0</th>\n",
       "      <td>-2.43573</td>\n",
       "      <td>133.13229</td>\n",
       "      <td>328.8</td>\n",
       "      <td>0.44</td>\n",
       "      <td>0.46</td>\n",
       "      <td>2021-04-04</td>\n",
       "      <td>04:06:00</td>\n",
       "      <td>nominal</td>\n",
       "      <td>291.3</td>\n",
       "      <td>2.0</td>\n",
       "      <td>D</td>\n",
       "      <td>2021-04-04 04:06:00</td>\n",
       "    </tr>\n",
       "    <tr>\n",
       "      <th>1</th>\n",
       "      <td>-2.10197</td>\n",
       "      <td>133.62312</td>\n",
       "      <td>327.6</td>\n",
       "      <td>0.41</td>\n",
       "      <td>0.45</td>\n",
       "      <td>2021-04-04</td>\n",
       "      <td>04:06:00</td>\n",
       "      <td>nominal</td>\n",
       "      <td>293.9</td>\n",
       "      <td>1.8</td>\n",
       "      <td>D</td>\n",
       "      <td>2021-04-04 04:06:00</td>\n",
       "    </tr>\n",
       "    <tr>\n",
       "      <th>2</th>\n",
       "      <td>-1.07484</td>\n",
       "      <td>131.30426</td>\n",
       "      <td>328.6</td>\n",
       "      <td>0.56</td>\n",
       "      <td>0.52</td>\n",
       "      <td>2021-04-04</td>\n",
       "      <td>04:06:00</td>\n",
       "      <td>nominal</td>\n",
       "      <td>290.3</td>\n",
       "      <td>2.7</td>\n",
       "      <td>D</td>\n",
       "      <td>2021-04-04 04:06:00</td>\n",
       "    </tr>\n",
       "    <tr>\n",
       "      <th>81</th>\n",
       "      <td>18.11591</td>\n",
       "      <td>121.01424</td>\n",
       "      <td>335.3</td>\n",
       "      <td>0.64</td>\n",
       "      <td>0.72</td>\n",
       "      <td>2021-04-04</td>\n",
       "      <td>04:12:00</td>\n",
       "      <td>nominal</td>\n",
       "      <td>293.3</td>\n",
       "      <td>5.8</td>\n",
       "      <td>D</td>\n",
       "      <td>2021-04-04 04:12:00</td>\n",
       "    </tr>\n",
       "    <tr>\n",
       "      <th>80</th>\n",
       "      <td>18.13276</td>\n",
       "      <td>121.08784</td>\n",
       "      <td>367.0</td>\n",
       "      <td>0.63</td>\n",
       "      <td>0.72</td>\n",
       "      <td>2021-04-04</td>\n",
       "      <td>04:12:00</td>\n",
       "      <td>high</td>\n",
       "      <td>290.6</td>\n",
       "      <td>24.8</td>\n",
       "      <td>D</td>\n",
       "      <td>2021-04-04 04:12:00</td>\n",
       "    </tr>\n",
       "    <tr>\n",
       "      <th>79</th>\n",
       "      <td>18.12650</td>\n",
       "      <td>121.09029</td>\n",
       "      <td>367.0</td>\n",
       "      <td>0.63</td>\n",
       "      <td>0.72</td>\n",
       "      <td>2021-04-04</td>\n",
       "      <td>04:12:00</td>\n",
       "      <td>high</td>\n",
       "      <td>292.1</td>\n",
       "      <td>24.8</td>\n",
       "      <td>D</td>\n",
       "      <td>2021-04-04 04:12:00</td>\n",
       "    </tr>\n",
       "    <tr>\n",
       "      <th>78</th>\n",
       "      <td>18.08769</td>\n",
       "      <td>120.98110</td>\n",
       "      <td>328.5</td>\n",
       "      <td>0.64</td>\n",
       "      <td>0.72</td>\n",
       "      <td>2021-04-04</td>\n",
       "      <td>04:12:00</td>\n",
       "      <td>nominal</td>\n",
       "      <td>293.0</td>\n",
       "      <td>3.8</td>\n",
       "      <td>D</td>\n",
       "      <td>2021-04-04 04:12:00</td>\n",
       "    </tr>\n",
       "    <tr>\n",
       "      <th>77</th>\n",
       "      <td>18.01829</td>\n",
       "      <td>121.15026</td>\n",
       "      <td>350.3</td>\n",
       "      <td>0.63</td>\n",
       "      <td>0.72</td>\n",
       "      <td>2021-04-04</td>\n",
       "      <td>04:12:00</td>\n",
       "      <td>nominal</td>\n",
       "      <td>294.8</td>\n",
       "      <td>12.4</td>\n",
       "      <td>D</td>\n",
       "      <td>2021-04-04 04:12:00</td>\n",
       "    </tr>\n",
       "    <tr>\n",
       "      <th>76</th>\n",
       "      <td>18.19885</td>\n",
       "      <td>121.94543</td>\n",
       "      <td>331.6</td>\n",
       "      <td>0.55</td>\n",
       "      <td>0.68</td>\n",
       "      <td>2021-04-04</td>\n",
       "      <td>04:12:00</td>\n",
       "      <td>nominal</td>\n",
       "      <td>293.4</td>\n",
       "      <td>8.9</td>\n",
       "      <td>D</td>\n",
       "      <td>2021-04-04 04:12:00</td>\n",
       "    </tr>\n",
       "    <tr>\n",
       "      <th>75</th>\n",
       "      <td>18.19996</td>\n",
       "      <td>121.95036</td>\n",
       "      <td>342.1</td>\n",
       "      <td>0.55</td>\n",
       "      <td>0.68</td>\n",
       "      <td>2021-04-04</td>\n",
       "      <td>04:12:00</td>\n",
       "      <td>nominal</td>\n",
       "      <td>292.2</td>\n",
       "      <td>8.7</td>\n",
       "      <td>D</td>\n",
       "      <td>2021-04-04 04:12:00</td>\n",
       "    </tr>\n",
       "  </tbody>\n",
       "</table>\n",
       "</div>"
      ],
      "text/plain": [
       "    latitude  longitude  bright_ti4  scan  track   acq_date  acq_time  \\\n",
       "0   -2.43573  133.13229       328.8  0.44   0.46 2021-04-04  04:06:00   \n",
       "1   -2.10197  133.62312       327.6  0.41   0.45 2021-04-04  04:06:00   \n",
       "2   -1.07484  131.30426       328.6  0.56   0.52 2021-04-04  04:06:00   \n",
       "81  18.11591  121.01424       335.3  0.64   0.72 2021-04-04  04:12:00   \n",
       "80  18.13276  121.08784       367.0  0.63   0.72 2021-04-04  04:12:00   \n",
       "79  18.12650  121.09029       367.0  0.63   0.72 2021-04-04  04:12:00   \n",
       "78  18.08769  120.98110       328.5  0.64   0.72 2021-04-04  04:12:00   \n",
       "77  18.01829  121.15026       350.3  0.63   0.72 2021-04-04  04:12:00   \n",
       "76  18.19885  121.94543       331.6  0.55   0.68 2021-04-04  04:12:00   \n",
       "75  18.19996  121.95036       342.1  0.55   0.68 2021-04-04  04:12:00   \n",
       "\n",
       "   confidence  bright_ti5   frp daynight              period  \n",
       "0     nominal       291.3   2.0        D 2021-04-04 04:06:00  \n",
       "1     nominal       293.9   1.8        D 2021-04-04 04:06:00  \n",
       "2     nominal       290.3   2.7        D 2021-04-04 04:06:00  \n",
       "81    nominal       293.3   5.8        D 2021-04-04 04:12:00  \n",
       "80       high       290.6  24.8        D 2021-04-04 04:12:00  \n",
       "79       high       292.1  24.8        D 2021-04-04 04:12:00  \n",
       "78    nominal       293.0   3.8        D 2021-04-04 04:12:00  \n",
       "77    nominal       294.8  12.4        D 2021-04-04 04:12:00  \n",
       "76    nominal       293.4   8.9        D 2021-04-04 04:12:00  \n",
       "75    nominal       292.2   8.7        D 2021-04-04 04:12:00  "
      ]
     },
     "execution_count": 28,
     "metadata": {},
     "output_type": "execute_result"
    }
   ],
   "source": [
    "# Concatenate acquisition date and time into a single column\n",
    "data['period']=data['acq_date']+' '+data['acq_time'].astype(str) # this leaves a df with acq_date and acq_time still there\n",
    "# data.drop(columns=['acq_date','acq_time'], inplace=True)\n",
    "data['period']=pd.to_datetime(data['period'], format='%Y-%m-%d %H%M')\n",
    "data['acq_date']=pd.to_datetime(data['period'].dt.date, format='%Y-%m-%d')\n",
    "data['acq_time']=data['period'].dt.time\n",
    "data.sort_values(by=['period'], inplace=True) # observe that without this code, time does not flow correctly in the animation\n",
    "\n",
    "# Remove unnecessary data\n",
    "data.drop(['satellite','version'],axis=1,inplace=True)\n",
    "\n",
    "data[:10]"
   ]
  },
  {
   "cell_type": "markdown",
   "id": "433b5097",
   "metadata": {
    "id": "433b5097"
   },
   "source": [
    "# 3 | Exploratory Data Analysis"
   ]
  },
  {
   "cell_type": "code",
   "execution_count": 29,
   "id": "8351996b",
   "metadata": {},
   "outputs": [
    {
     "data": {
      "text/plain": [
       "<AxesSubplot:>"
      ]
     },
     "execution_count": 29,
     "metadata": {},
     "output_type": "execute_result"
    },
    {
     "data": {
      "text/plain": [
       "<Figure size 432x288 with 0 Axes>"
      ]
     },
     "metadata": {},
     "output_type": "display_data"
    },
    {
     "data": {
      "image/png": "[encoded data removed]",
      "text/plain": [
       "<Figure size 720x720 with 2 Axes>"
      ]
     },
     "metadata": {
      "needs_background": "light"
     },
     "output_type": "display_data"
    }
   ],
   "source": [
    "plt.figure(1)\n",
    "fig, ax = plt.subplots(figsize=(10,10)) \n",
    "sns.heatmap(data.corr(method='pearson'),vmin=0,cmap=\"YlGnBu\",annot=True,ax=ax)"
   ]
  },
  {
   "cell_type": "markdown",
   "id": "54918ff4",
   "metadata": {
    "id": "54918ff4"
   },
   "source": [
    "BUG: CELLS DO NOT WORK ON GITHUB; INTERACTIVE VISUALS <br>\n",
    "Tested working in Jupyter and VSCode <br>\n",
    "Github renders images statically and does not support interactive visuals"
   ]
  },
  {
   "cell_type": "code",
   "execution_count": 30,
   "id": "77104861",
   "metadata": {
    "colab": {
     "base_uri": "https://localhost:8080/",
     "height": 761
    },
    "executionInfo": {
     "elapsed": 13055,
     "status": "ok",
     "timestamp": 1618017829385,
     "user": {
      "displayName": "qing 1",
      "photoUrl": "",
      "userId": "17349177959796089200"
     },
     "user_tz": -480
    },
    "id": "77104861",
    "outputId": "387cfbe5-369b-467c-9887-7baa2e2af6e9"
   },
   "outputs": [
    {
     "data": {
      "text/html": [
       "\n",
       "        <iframe\n",
       "            width=\"1080\"\n",
       "            height=\"720\"\n",
       "            src=\"content/animation.html\"\n",
       "            frameborder=\"0\"\n",
       "            allowfullscreen\n",
       "        ></iframe>\n",
       "        "
      ],
      "text/plain": [
       "<IPython.lib.display.IFrame at 0x1f091c469b0>"
      ]
     },
     "execution_count": 30,
     "metadata": {},
     "output_type": "execute_result"
    }
   ],
   "source": [
    "# Write animation to file\n",
    "fig2 = px.scatter_geo(data, \n",
    "                    lat='latitude', \n",
    "                    lon='longitude', \n",
    "                    scope='asia',\n",
    "                    center={'lat':2.2180,'lon':115.6628}, # centered to SEA\n",
    "                    color='confidence',\n",
    "                    animation_frame=data['period'].astype(str)) \n",
    "fig2.write_html('content/animation.html')\n",
    "# TODO: Fix animation to have constant legend \n",
    "\n",
    "# Display animation\n",
    "IFrame(src='content/animation.html', width=1080, height=720)"
   ]
  },
  {
   "cell_type": "code",
   "execution_count": 31,
   "id": "9b3d9506",
   "metadata": {
    "colab": {
     "base_uri": "https://localhost:8080/",
     "height": 504
    },
    "executionInfo": {
     "elapsed": 18314,
     "status": "ok",
     "timestamp": 1618017834656,
     "user": {
      "displayName": "qing 1",
      "photoUrl": "",
      "userId": "17349177959796089200"
     },
     "user_tz": -480
    },
    "id": "9b3d9506",
    "outputId": "48081380-be0f-494c-b1dd-4ccf73c04652"
   },
   "outputs": [
    {
     "data": {
      "text/plain": [
       "<seaborn.axisgrid.FacetGrid at 0x1f0944869e8>"
      ]
     },
     "execution_count": 31,
     "metadata": {},
     "output_type": "execute_result"
    },
    {
     "data": {
      "image/png": "[encoded data removed]",
      "text/plain": [
       "<Figure size 1228.25x576 with 2 Axes>"
      ]
     },
     "metadata": {
      "needs_background": "light"
     },
     "output_type": "display_data"
    }
   ],
   "source": [
    "# FRP/confidence against time\n",
    "sns.relplot(x=\"period\", y=\"frp\", hue=\"confidence\", col=\"daynight\", data=data, height=8)"
   ]
  },
  {
   "cell_type": "markdown",
   "id": "f851f132",
   "metadata": {
    "id": "f851f132"
   },
   "source": [
    "We note that there seems to be some data where the gaps between data is small. Hence, this necessitates the merging of time data into hourly frames to better analyze patterns. "
   ]
  },
  {
   "cell_type": "code",
   "execution_count": 32,
   "id": "fa05a5dd",
   "metadata": {
    "colab": {
     "base_uri": "https://localhost:8080/",
     "height": 712
    },
    "executionInfo": {
     "elapsed": 18308,
     "status": "ok",
     "timestamp": 1618017834658,
     "user": {
      "displayName": "qing 1",
      "photoUrl": "",
      "userId": "17349177959796089200"
     },
     "user_tz": -480
    },
    "id": "fa05a5dd",
    "outputId": "6f07ebfb-3bb0-4222-932c-52f45a0552a0"
   },
   "outputs": [
    {
     "data": {
      "text/html": [
       "<div>\n",
       "<style scoped>\n",
       "    .dataframe tbody tr th:only-of-type {\n",
       "        vertical-align: middle;\n",
       "    }\n",
       "\n",
       "    .dataframe tbody tr th {\n",
       "        vertical-align: top;\n",
       "    }\n",
       "\n",
       "    .dataframe thead th {\n",
       "        text-align: right;\n",
       "    }\n",
       "</style>\n",
       "<table border=\"1\" class=\"dataframe\">\n",
       "  <thead>\n",
       "    <tr style=\"text-align: right;\">\n",
       "      <th></th>\n",
       "      <th>latitude</th>\n",
       "      <th>longitude</th>\n",
       "      <th>bright_ti4</th>\n",
       "      <th>scan</th>\n",
       "      <th>track</th>\n",
       "      <th>acq_date</th>\n",
       "      <th>acq_time</th>\n",
       "      <th>confidence</th>\n",
       "      <th>bright_ti5</th>\n",
       "      <th>frp</th>\n",
       "      <th>daynight</th>\n",
       "      <th>period</th>\n",
       "    </tr>\n",
       "  </thead>\n",
       "  <tbody>\n",
       "    <tr>\n",
       "      <th>0</th>\n",
       "      <td>-2.43573</td>\n",
       "      <td>133.13229</td>\n",
       "      <td>328.8</td>\n",
       "      <td>0.44</td>\n",
       "      <td>0.46</td>\n",
       "      <td>2021-04-04</td>\n",
       "      <td>04:06:00</td>\n",
       "      <td>nominal</td>\n",
       "      <td>291.3</td>\n",
       "      <td>2.0</td>\n",
       "      <td>D</td>\n",
       "      <td>2021-04-04 04:00:00</td>\n",
       "    </tr>\n",
       "    <tr>\n",
       "      <th>1</th>\n",
       "      <td>-2.10197</td>\n",
       "      <td>133.62312</td>\n",
       "      <td>327.6</td>\n",
       "      <td>0.41</td>\n",
       "      <td>0.45</td>\n",
       "      <td>2021-04-04</td>\n",
       "      <td>04:06:00</td>\n",
       "      <td>nominal</td>\n",
       "      <td>293.9</td>\n",
       "      <td>1.8</td>\n",
       "      <td>D</td>\n",
       "      <td>2021-04-04 04:00:00</td>\n",
       "    </tr>\n",
       "    <tr>\n",
       "      <th>2</th>\n",
       "      <td>-1.07484</td>\n",
       "      <td>131.30426</td>\n",
       "      <td>328.6</td>\n",
       "      <td>0.56</td>\n",
       "      <td>0.52</td>\n",
       "      <td>2021-04-04</td>\n",
       "      <td>04:06:00</td>\n",
       "      <td>nominal</td>\n",
       "      <td>290.3</td>\n",
       "      <td>2.7</td>\n",
       "      <td>D</td>\n",
       "      <td>2021-04-04 04:00:00</td>\n",
       "    </tr>\n",
       "    <tr>\n",
       "      <th>81</th>\n",
       "      <td>18.11591</td>\n",
       "      <td>121.01424</td>\n",
       "      <td>335.3</td>\n",
       "      <td>0.64</td>\n",
       "      <td>0.72</td>\n",
       "      <td>2021-04-04</td>\n",
       "      <td>04:12:00</td>\n",
       "      <td>nominal</td>\n",
       "      <td>293.3</td>\n",
       "      <td>5.8</td>\n",
       "      <td>D</td>\n",
       "      <td>2021-04-04 04:00:00</td>\n",
       "    </tr>\n",
       "    <tr>\n",
       "      <th>80</th>\n",
       "      <td>18.13276</td>\n",
       "      <td>121.08784</td>\n",
       "      <td>367.0</td>\n",
       "      <td>0.63</td>\n",
       "      <td>0.72</td>\n",
       "      <td>2021-04-04</td>\n",
       "      <td>04:12:00</td>\n",
       "      <td>high</td>\n",
       "      <td>290.6</td>\n",
       "      <td>24.8</td>\n",
       "      <td>D</td>\n",
       "      <td>2021-04-04 04:00:00</td>\n",
       "    </tr>\n",
       "    <tr>\n",
       "      <th>79</th>\n",
       "      <td>18.12650</td>\n",
       "      <td>121.09029</td>\n",
       "      <td>367.0</td>\n",
       "      <td>0.63</td>\n",
       "      <td>0.72</td>\n",
       "      <td>2021-04-04</td>\n",
       "      <td>04:12:00</td>\n",
       "      <td>high</td>\n",
       "      <td>292.1</td>\n",
       "      <td>24.8</td>\n",
       "      <td>D</td>\n",
       "      <td>2021-04-04 04:00:00</td>\n",
       "    </tr>\n",
       "    <tr>\n",
       "      <th>78</th>\n",
       "      <td>18.08769</td>\n",
       "      <td>120.98110</td>\n",
       "      <td>328.5</td>\n",
       "      <td>0.64</td>\n",
       "      <td>0.72</td>\n",
       "      <td>2021-04-04</td>\n",
       "      <td>04:12:00</td>\n",
       "      <td>nominal</td>\n",
       "      <td>293.0</td>\n",
       "      <td>3.8</td>\n",
       "      <td>D</td>\n",
       "      <td>2021-04-04 04:00:00</td>\n",
       "    </tr>\n",
       "    <tr>\n",
       "      <th>77</th>\n",
       "      <td>18.01829</td>\n",
       "      <td>121.15026</td>\n",
       "      <td>350.3</td>\n",
       "      <td>0.63</td>\n",
       "      <td>0.72</td>\n",
       "      <td>2021-04-04</td>\n",
       "      <td>04:12:00</td>\n",
       "      <td>nominal</td>\n",
       "      <td>294.8</td>\n",
       "      <td>12.4</td>\n",
       "      <td>D</td>\n",
       "      <td>2021-04-04 04:00:00</td>\n",
       "    </tr>\n",
       "    <tr>\n",
       "      <th>76</th>\n",
       "      <td>18.19885</td>\n",
       "      <td>121.94543</td>\n",
       "      <td>331.6</td>\n",
       "      <td>0.55</td>\n",
       "      <td>0.68</td>\n",
       "      <td>2021-04-04</td>\n",
       "      <td>04:12:00</td>\n",
       "      <td>nominal</td>\n",
       "      <td>293.4</td>\n",
       "      <td>8.9</td>\n",
       "      <td>D</td>\n",
       "      <td>2021-04-04 04:00:00</td>\n",
       "    </tr>\n",
       "    <tr>\n",
       "      <th>75</th>\n",
       "      <td>18.19996</td>\n",
       "      <td>121.95036</td>\n",
       "      <td>342.1</td>\n",
       "      <td>0.55</td>\n",
       "      <td>0.68</td>\n",
       "      <td>2021-04-04</td>\n",
       "      <td>04:12:00</td>\n",
       "      <td>nominal</td>\n",
       "      <td>292.2</td>\n",
       "      <td>8.7</td>\n",
       "      <td>D</td>\n",
       "      <td>2021-04-04 04:00:00</td>\n",
       "    </tr>\n",
       "  </tbody>\n",
       "</table>\n",
       "</div>"
      ],
      "text/plain": [
       "    latitude  longitude  bright_ti4  scan  track   acq_date  acq_time  \\\n",
       "0   -2.43573  133.13229       328.8  0.44   0.46 2021-04-04  04:06:00   \n",
       "1   -2.10197  133.62312       327.6  0.41   0.45 2021-04-04  04:06:00   \n",
       "2   -1.07484  131.30426       328.6  0.56   0.52 2021-04-04  04:06:00   \n",
       "81  18.11591  121.01424       335.3  0.64   0.72 2021-04-04  04:12:00   \n",
       "80  18.13276  121.08784       367.0  0.63   0.72 2021-04-04  04:12:00   \n",
       "79  18.12650  121.09029       367.0  0.63   0.72 2021-04-04  04:12:00   \n",
       "78  18.08769  120.98110       328.5  0.64   0.72 2021-04-04  04:12:00   \n",
       "77  18.01829  121.15026       350.3  0.63   0.72 2021-04-04  04:12:00   \n",
       "76  18.19885  121.94543       331.6  0.55   0.68 2021-04-04  04:12:00   \n",
       "75  18.19996  121.95036       342.1  0.55   0.68 2021-04-04  04:12:00   \n",
       "\n",
       "   confidence  bright_ti5   frp daynight              period  \n",
       "0     nominal       291.3   2.0        D 2021-04-04 04:00:00  \n",
       "1     nominal       293.9   1.8        D 2021-04-04 04:00:00  \n",
       "2     nominal       290.3   2.7        D 2021-04-04 04:00:00  \n",
       "81    nominal       293.3   5.8        D 2021-04-04 04:00:00  \n",
       "80       high       290.6  24.8        D 2021-04-04 04:00:00  \n",
       "79       high       292.1  24.8        D 2021-04-04 04:00:00  \n",
       "78    nominal       293.0   3.8        D 2021-04-04 04:00:00  \n",
       "77    nominal       294.8  12.4        D 2021-04-04 04:00:00  \n",
       "76    nominal       293.4   8.9        D 2021-04-04 04:00:00  \n",
       "75    nominal       292.2   8.7        D 2021-04-04 04:00:00  "
      ]
     },
     "execution_count": 32,
     "metadata": {},
     "output_type": "execute_result"
    }
   ],
   "source": [
    "# Processing data further to clean visualization\n",
    "\n",
    "# Generate new DFs with times rounded down to the nearest hour\n",
    "date_sorted = data\n",
    "date_sorted['period'] = date_sorted['period'].dt.floor('H')\n",
    "date_sorted_gb = date_sorted.groupby('acq_date') # returns a groupby object which can be called with below code\n",
    "\n",
    "# [date_sorted.get_group(x) for x in date_sorted_gb.groups] # this displays all the dataframes\n",
    "\n",
    "date_sorted.head(10)"
   ]
  },
  {
   "cell_type": "code",
   "execution_count": 33,
   "id": "89e0d6ad",
   "metadata": {
    "colab": {
     "base_uri": "https://localhost:8080/",
     "height": 528
    },
    "executionInfo": {
     "elapsed": 20932,
     "status": "ok",
     "timestamp": 1618017837290,
     "user": {
      "displayName": "qing 1",
      "photoUrl": "",
      "userId": "17349177959796089200"
     },
     "user_tz": -480
    },
    "id": "89e0d6ad",
    "outputId": "b4b4f404-fbad-48a9-8e42-5ebf470a8cff"
   },
   "outputs": [
    {
     "data": {
      "image/png": "[encoded data removed]",
      "text/plain": [
       "<Figure size 864x576 with 1 Axes>"
      ]
     },
     "metadata": {
      "needs_background": "light"
     },
     "output_type": "display_data"
    }
   ],
   "source": [
    "# Plot individual plots for every date\n",
    "pd.options.mode.chained_assignment = None  # ignore warnings\n",
    "# list_date = date_sorted['acq_date'].unique()\n",
    "\n",
    "# Formatting of plot\n",
    "fig3 = plt.figure(figsize=(12,8))\n",
    "plt.xlabel('Time of Day (24H Format)')\n",
    "plt.ylabel('FRP')\n",
    "plt.xlim(0,2400)\n",
    "plt.xticks(np.linspace(0,2300,num=24), rotation=45)\n",
    "\n",
    "for x in date_sorted_gb.groups:\n",
    "    plt.title(str(x.date()))\n",
    "\n",
    "    # Data of plot\n",
    "    current = date_sorted_gb.get_group(x) # iterate through groups\n",
    "    current['acq_time'] = current['period'].dt.time # extract time\n",
    "    current['acq_time'] = current['acq_time'].apply(str) # convert to type string\n",
    "    current['acq_time'] = current['acq_time'].str.replace(':','').astype(int)/100 # convert to 24h format\n",
    "    plt.scatter(current['acq_time'],current['frp'])\n",
    "    plt.savefig('content/'+str(x.date())+'.png')"
   ]
  },
  {
   "cell_type": "code",
   "execution_count": 34,
   "id": "d462f310",
   "metadata": {
    "colab": {
     "base_uri": "https://localhost:8080/",
     "height": 387
    },
    "executionInfo": {
     "elapsed": 2718,
     "status": "error",
     "timestamp": 1618022283532,
     "user": {
      "displayName": "qing 1",
      "photoUrl": "",
      "userId": "17349177959796089200"
     },
     "user_tz": -480
    },
    "id": "d462f310",
    "outputId": "522408f1-66bc-4f09-c9c6-36f5a1418d8b"
   },
   "outputs": [
    {
     "data": {
      "text/html": [
       "<img src=\"content/dailyfrp.gif\"/>"
      ],
      "text/plain": [
       "<IPython.core.display.Image object>"
      ]
     },
     "execution_count": 34,
     "metadata": {},
     "output_type": "execute_result"
    }
   ],
   "source": [
    "filenames = date_sorted['acq_date'].dt.date.unique().astype(str)\n",
    "filenames = [(value+'.png') for value in filenames]\n",
    "\n",
    "images = []\n",
    "for filename in filenames:\n",
    "    images.append(imageio.imread('content/'+filename))\n",
    "imageio.mimwrite('content/dailyfrp.gif', images, format='gif', duration=1)\n",
    "\n",
    "Image(url='content/dailyfrp.gif') "
   ]
  },
  {
   "cell_type": "markdown",
   "id": "028e879b",
   "metadata": {
    "id": "028e879b"
   },
   "source": [
    "Looking at the above visualizations, we can see that: \n",
    "- there tends to be a concentration of fire data within the same region\n",
    "- most fires are detected in the day\n",
    "- there seems to be a pattern in when the fires are detected within the same 7 day period\n",
    "\n",
    "We also notice a few points where the data is seemingly in the middle of the ocean.\n",
    "\n",
    "Consequently, this necessitates cleaning of data to remove unnecessary information. Feature selection is necessary. "
   ]
  },
  {
   "cell_type": "markdown",
   "id": "928d7f62",
   "metadata": {
    "id": "928d7f62"
   },
   "source": [
    "# 4 | Data Pre-Processing"
   ]
  },
  {
   "cell_type": "markdown",
   "id": "5ccc80d1",
   "metadata": {
    "id": "5ccc80d1"
   },
   "source": [
    "## 4.1 | Cleaning Dataset"
   ]
  },
  {
   "cell_type": "code",
   "execution_count": 35,
   "id": "1845ea24",
   "metadata": {
    "executionInfo": {
     "elapsed": 21350,
     "status": "aborted",
     "timestamp": 1618017837722,
     "user": {
      "displayName": "qing 1",
      "photoUrl": "",
      "userId": "17349177959796089200"
     },
     "user_tz": -480
    },
    "id": "1845ea24"
   },
   "outputs": [
    {
     "data": {
      "text/plain": [
       "0        D\n",
       "1        D\n",
       "2        D\n",
       "81       D\n",
       "80       D\n",
       "        ..\n",
       "32789    D\n",
       "32790    D\n",
       "32791    D\n",
       "32777    D\n",
       "32828    D\n",
       "Name: daynight, Length: 32829, dtype: category\n",
       "Categories (2, object): ['D', 'N']"
      ]
     },
     "execution_count": 35,
     "metadata": {},
     "output_type": "execute_result"
    }
   ],
   "source": [
    "# Convert 'object' columns into appropriate dtype\n",
    "data['confidence'].astype('category')\n",
    "data['daynight'].astype('category')"
   ]
  },
  {
   "cell_type": "code",
   "execution_count": 36,
   "id": "f11f2200",
   "metadata": {
    "executionInfo": {
     "elapsed": 21345,
     "status": "aborted",
     "timestamp": 1618017837723,
     "user": {
      "displayName": "qing 1",
      "photoUrl": "",
      "userId": "17349177959796089200"
     },
     "user_tz": -480
    },
    "id": "f11f2200"
   },
   "outputs": [
    {
     "data": {
      "text/html": [
       "<div>\n",
       "<style scoped>\n",
       "    .dataframe tbody tr th:only-of-type {\n",
       "        vertical-align: middle;\n",
       "    }\n",
       "\n",
       "    .dataframe tbody tr th {\n",
       "        vertical-align: top;\n",
       "    }\n",
       "\n",
       "    .dataframe thead th {\n",
       "        text-align: right;\n",
       "    }\n",
       "</style>\n",
       "<table border=\"1\" class=\"dataframe\">\n",
       "  <thead>\n",
       "    <tr style=\"text-align: right;\">\n",
       "      <th></th>\n",
       "      <th>latitude</th>\n",
       "      <th>longitude</th>\n",
       "      <th>bright_ti4</th>\n",
       "      <th>scan</th>\n",
       "      <th>track</th>\n",
       "      <th>acq_date</th>\n",
       "      <th>acq_time</th>\n",
       "      <th>confidence</th>\n",
       "      <th>bright_ti5</th>\n",
       "      <th>frp</th>\n",
       "      <th>daynight</th>\n",
       "      <th>period</th>\n",
       "    </tr>\n",
       "  </thead>\n",
       "  <tbody>\n",
       "    <tr>\n",
       "      <th>0</th>\n",
       "      <td>-2.43573</td>\n",
       "      <td>133.13229</td>\n",
       "      <td>328.8</td>\n",
       "      <td>0.44</td>\n",
       "      <td>0.46</td>\n",
       "      <td>2021-04-04</td>\n",
       "      <td>40600</td>\n",
       "      <td>nominal</td>\n",
       "      <td>291.3</td>\n",
       "      <td>2.0</td>\n",
       "      <td>D</td>\n",
       "      <td>2021-04-04 04:00:00</td>\n",
       "    </tr>\n",
       "    <tr>\n",
       "      <th>1</th>\n",
       "      <td>-2.10197</td>\n",
       "      <td>133.62312</td>\n",
       "      <td>327.6</td>\n",
       "      <td>0.41</td>\n",
       "      <td>0.45</td>\n",
       "      <td>2021-04-04</td>\n",
       "      <td>40600</td>\n",
       "      <td>nominal</td>\n",
       "      <td>293.9</td>\n",
       "      <td>1.8</td>\n",
       "      <td>D</td>\n",
       "      <td>2021-04-04 04:00:00</td>\n",
       "    </tr>\n",
       "    <tr>\n",
       "      <th>2</th>\n",
       "      <td>-1.07484</td>\n",
       "      <td>131.30426</td>\n",
       "      <td>328.6</td>\n",
       "      <td>0.56</td>\n",
       "      <td>0.52</td>\n",
       "      <td>2021-04-04</td>\n",
       "      <td>40600</td>\n",
       "      <td>nominal</td>\n",
       "      <td>290.3</td>\n",
       "      <td>2.7</td>\n",
       "      <td>D</td>\n",
       "      <td>2021-04-04 04:00:00</td>\n",
       "    </tr>\n",
       "    <tr>\n",
       "      <th>81</th>\n",
       "      <td>18.11591</td>\n",
       "      <td>121.01424</td>\n",
       "      <td>335.3</td>\n",
       "      <td>0.64</td>\n",
       "      <td>0.72</td>\n",
       "      <td>2021-04-04</td>\n",
       "      <td>41200</td>\n",
       "      <td>nominal</td>\n",
       "      <td>293.3</td>\n",
       "      <td>5.8</td>\n",
       "      <td>D</td>\n",
       "      <td>2021-04-04 04:00:00</td>\n",
       "    </tr>\n",
       "    <tr>\n",
       "      <th>80</th>\n",
       "      <td>18.13276</td>\n",
       "      <td>121.08784</td>\n",
       "      <td>367.0</td>\n",
       "      <td>0.63</td>\n",
       "      <td>0.72</td>\n",
       "      <td>2021-04-04</td>\n",
       "      <td>41200</td>\n",
       "      <td>high</td>\n",
       "      <td>290.6</td>\n",
       "      <td>24.8</td>\n",
       "      <td>D</td>\n",
       "      <td>2021-04-04 04:00:00</td>\n",
       "    </tr>\n",
       "  </tbody>\n",
       "</table>\n",
       "</div>"
      ],
      "text/plain": [
       "    latitude  longitude  bright_ti4  scan  track   acq_date  acq_time  \\\n",
       "0   -2.43573  133.13229       328.8  0.44   0.46 2021-04-04     40600   \n",
       "1   -2.10197  133.62312       327.6  0.41   0.45 2021-04-04     40600   \n",
       "2   -1.07484  131.30426       328.6  0.56   0.52 2021-04-04     40600   \n",
       "81  18.11591  121.01424       335.3  0.64   0.72 2021-04-04     41200   \n",
       "80  18.13276  121.08784       367.0  0.63   0.72 2021-04-04     41200   \n",
       "\n",
       "   confidence  bright_ti5   frp daynight              period  \n",
       "0     nominal       291.3   2.0        D 2021-04-04 04:00:00  \n",
       "1     nominal       293.9   1.8        D 2021-04-04 04:00:00  \n",
       "2     nominal       290.3   2.7        D 2021-04-04 04:00:00  \n",
       "81    nominal       293.3   5.8        D 2021-04-04 04:00:00  \n",
       "80       high       290.6  24.8        D 2021-04-04 04:00:00  "
      ]
     },
     "execution_count": 36,
     "metadata": {},
     "output_type": "execute_result"
    }
   ],
   "source": [
    "# Convert time into integers\n",
    "data['acq_time'] = data['acq_time'].apply(str) # convert to type string\n",
    "data['acq_time'] = data['acq_time'].str.replace(':','').astype(int)\n",
    "data.head()"
   ]
  },
  {
   "cell_type": "code",
   "execution_count": 37,
   "id": "827f837b",
   "metadata": {
    "executionInfo": {
     "elapsed": 21338,
     "status": "aborted",
     "timestamp": 1618017837724,
     "user": {
      "displayName": "qing 1",
      "photoUrl": "",
      "userId": "17349177959796089200"
     },
     "user_tz": -480
    },
    "id": "827f837b"
   },
   "outputs": [
    {
     "data": {
      "text/html": [
       "<div>\n",
       "<style scoped>\n",
       "    .dataframe tbody tr th:only-of-type {\n",
       "        vertical-align: middle;\n",
       "    }\n",
       "\n",
       "    .dataframe tbody tr th {\n",
       "        vertical-align: top;\n",
       "    }\n",
       "\n",
       "    .dataframe thead th {\n",
       "        text-align: right;\n",
       "    }\n",
       "</style>\n",
       "<table border=\"1\" class=\"dataframe\">\n",
       "  <thead>\n",
       "    <tr style=\"text-align: right;\">\n",
       "      <th></th>\n",
       "      <th>period</th>\n",
       "      <th>latitude</th>\n",
       "      <th>longitude</th>\n",
       "      <th>bright_ti4</th>\n",
       "      <th>scan</th>\n",
       "      <th>track</th>\n",
       "      <th>acq_date</th>\n",
       "      <th>acq_time</th>\n",
       "      <th>confidence</th>\n",
       "      <th>bright_ti5</th>\n",
       "      <th>frp</th>\n",
       "      <th>daynight</th>\n",
       "    </tr>\n",
       "  </thead>\n",
       "  <tbody>\n",
       "    <tr>\n",
       "      <th>0</th>\n",
       "      <td>2021-04-04 04:00:00</td>\n",
       "      <td>-2.43573</td>\n",
       "      <td>133.13229</td>\n",
       "      <td>328.8</td>\n",
       "      <td>0.44</td>\n",
       "      <td>0.46</td>\n",
       "      <td>2021-04-04</td>\n",
       "      <td>40600</td>\n",
       "      <td>nominal</td>\n",
       "      <td>291.3</td>\n",
       "      <td>2.0</td>\n",
       "      <td>D</td>\n",
       "    </tr>\n",
       "    <tr>\n",
       "      <th>1</th>\n",
       "      <td>2021-04-04 04:00:00</td>\n",
       "      <td>-2.10197</td>\n",
       "      <td>133.62312</td>\n",
       "      <td>327.6</td>\n",
       "      <td>0.41</td>\n",
       "      <td>0.45</td>\n",
       "      <td>2021-04-04</td>\n",
       "      <td>40600</td>\n",
       "      <td>nominal</td>\n",
       "      <td>293.9</td>\n",
       "      <td>1.8</td>\n",
       "      <td>D</td>\n",
       "    </tr>\n",
       "    <tr>\n",
       "      <th>2</th>\n",
       "      <td>2021-04-04 04:00:00</td>\n",
       "      <td>-1.07484</td>\n",
       "      <td>131.30426</td>\n",
       "      <td>328.6</td>\n",
       "      <td>0.56</td>\n",
       "      <td>0.52</td>\n",
       "      <td>2021-04-04</td>\n",
       "      <td>40600</td>\n",
       "      <td>nominal</td>\n",
       "      <td>290.3</td>\n",
       "      <td>2.7</td>\n",
       "      <td>D</td>\n",
       "    </tr>\n",
       "    <tr>\n",
       "      <th>3</th>\n",
       "      <td>2021-04-04 04:00:00</td>\n",
       "      <td>18.11591</td>\n",
       "      <td>121.01424</td>\n",
       "      <td>335.3</td>\n",
       "      <td>0.64</td>\n",
       "      <td>0.72</td>\n",
       "      <td>2021-04-04</td>\n",
       "      <td>41200</td>\n",
       "      <td>nominal</td>\n",
       "      <td>293.3</td>\n",
       "      <td>5.8</td>\n",
       "      <td>D</td>\n",
       "    </tr>\n",
       "    <tr>\n",
       "      <th>4</th>\n",
       "      <td>2021-04-04 04:00:00</td>\n",
       "      <td>18.13276</td>\n",
       "      <td>121.08784</td>\n",
       "      <td>367.0</td>\n",
       "      <td>0.63</td>\n",
       "      <td>0.72</td>\n",
       "      <td>2021-04-04</td>\n",
       "      <td>41200</td>\n",
       "      <td>high</td>\n",
       "      <td>290.6</td>\n",
       "      <td>24.8</td>\n",
       "      <td>D</td>\n",
       "    </tr>\n",
       "  </tbody>\n",
       "</table>\n",
       "</div>"
      ],
      "text/plain": [
       "               period  latitude  longitude  bright_ti4  scan  track  \\\n",
       "0 2021-04-04 04:00:00  -2.43573  133.13229       328.8  0.44   0.46   \n",
       "1 2021-04-04 04:00:00  -2.10197  133.62312       327.6  0.41   0.45   \n",
       "2 2021-04-04 04:00:00  -1.07484  131.30426       328.6  0.56   0.52   \n",
       "3 2021-04-04 04:00:00  18.11591  121.01424       335.3  0.64   0.72   \n",
       "4 2021-04-04 04:00:00  18.13276  121.08784       367.0  0.63   0.72   \n",
       "\n",
       "    acq_date  acq_time confidence  bright_ti5   frp daynight  \n",
       "0 2021-04-04     40600    nominal       291.3   2.0        D  \n",
       "1 2021-04-04     40600    nominal       293.9   1.8        D  \n",
       "2 2021-04-04     40600    nominal       290.3   2.7        D  \n",
       "3 2021-04-04     41200    nominal       293.3   5.8        D  \n",
       "4 2021-04-04     41200       high       290.6  24.8        D  "
      ]
     },
     "execution_count": 37,
     "metadata": {},
     "output_type": "execute_result"
    }
   ],
   "source": [
    "# Resetting index for OHE preparation\n",
    "data.set_index('period', inplace=True)\n",
    "data.reset_index(inplace=True)\n",
    "data.head()"
   ]
  },
  {
   "cell_type": "code",
   "execution_count": 38,
   "id": "84397066",
   "metadata": {
    "colab": {
     "base_uri": "https://localhost:8080/",
     "height": 529
    },
    "executionInfo": {
     "elapsed": 1489,
     "status": "error",
     "timestamp": 1618022347412,
     "user": {
      "displayName": "qing 1",
      "photoUrl": "",
      "userId": "17349177959796089200"
     },
     "user_tz": -480
    },
    "id": "84397066",
    "outputId": "50cdc97f-b46d-4744-9ccc-4efaba7ae9bb"
   },
   "outputs": [
    {
     "data": {
      "text/html": [
       "<div>\n",
       "<style scoped>\n",
       "    .dataframe tbody tr th:only-of-type {\n",
       "        vertical-align: middle;\n",
       "    }\n",
       "\n",
       "    .dataframe tbody tr th {\n",
       "        vertical-align: top;\n",
       "    }\n",
       "\n",
       "    .dataframe thead th {\n",
       "        text-align: right;\n",
       "    }\n",
       "</style>\n",
       "<table border=\"1\" class=\"dataframe\">\n",
       "  <thead>\n",
       "    <tr style=\"text-align: right;\">\n",
       "      <th></th>\n",
       "      <th>period</th>\n",
       "      <th>latitude</th>\n",
       "      <th>longitude</th>\n",
       "      <th>bright_ti4</th>\n",
       "      <th>scan</th>\n",
       "      <th>track</th>\n",
       "      <th>acq_date</th>\n",
       "      <th>acq_time</th>\n",
       "      <th>confidence</th>\n",
       "      <th>bright_ti5</th>\n",
       "      <th>frp</th>\n",
       "      <th>daynight</th>\n",
       "      <th>geometry</th>\n",
       "      <th>index_right</th>\n",
       "      <th>pop_est</th>\n",
       "      <th>continent</th>\n",
       "      <th>name</th>\n",
       "      <th>iso_a3</th>\n",
       "      <th>gdp_md_est</th>\n",
       "    </tr>\n",
       "  </thead>\n",
       "  <tbody>\n",
       "    <tr>\n",
       "      <th>0</th>\n",
       "      <td>2021-04-04 04:00:00</td>\n",
       "      <td>-2.43573</td>\n",
       "      <td>133.13229</td>\n",
       "      <td>328.8</td>\n",
       "      <td>0.44</td>\n",
       "      <td>0.46</td>\n",
       "      <td>2021-04-04</td>\n",
       "      <td>40600</td>\n",
       "      <td>nominal</td>\n",
       "      <td>291.3</td>\n",
       "      <td>2.0</td>\n",
       "      <td>D</td>\n",
       "      <td>POINT (133.13229 -2.43573)</td>\n",
       "      <td>NaN</td>\n",
       "      <td>NaN</td>\n",
       "      <td>NaN</td>\n",
       "      <td>NaN</td>\n",
       "      <td>NaN</td>\n",
       "      <td>NaN</td>\n",
       "    </tr>\n",
       "    <tr>\n",
       "      <th>1</th>\n",
       "      <td>2021-04-04 04:00:00</td>\n",
       "      <td>-2.10197</td>\n",
       "      <td>133.62312</td>\n",
       "      <td>327.6</td>\n",
       "      <td>0.41</td>\n",
       "      <td>0.45</td>\n",
       "      <td>2021-04-04</td>\n",
       "      <td>40600</td>\n",
       "      <td>nominal</td>\n",
       "      <td>293.9</td>\n",
       "      <td>1.8</td>\n",
       "      <td>D</td>\n",
       "      <td>POINT (133.62312 -2.10197)</td>\n",
       "      <td>8.0</td>\n",
       "      <td>260580739.0</td>\n",
       "      <td>Asia</td>\n",
       "      <td>Indonesia</td>\n",
       "      <td>IDN</td>\n",
       "      <td>3028000.0</td>\n",
       "    </tr>\n",
       "    <tr>\n",
       "      <th>2</th>\n",
       "      <td>2021-04-04 04:00:00</td>\n",
       "      <td>-1.07484</td>\n",
       "      <td>131.30426</td>\n",
       "      <td>328.6</td>\n",
       "      <td>0.56</td>\n",
       "      <td>0.52</td>\n",
       "      <td>2021-04-04</td>\n",
       "      <td>40600</td>\n",
       "      <td>nominal</td>\n",
       "      <td>290.3</td>\n",
       "      <td>2.7</td>\n",
       "      <td>D</td>\n",
       "      <td>POINT (131.30426 -1.07484)</td>\n",
       "      <td>8.0</td>\n",
       "      <td>260580739.0</td>\n",
       "      <td>Asia</td>\n",
       "      <td>Indonesia</td>\n",
       "      <td>IDN</td>\n",
       "      <td>3028000.0</td>\n",
       "    </tr>\n",
       "    <tr>\n",
       "      <th>3</th>\n",
       "      <td>2021-04-04 04:00:00</td>\n",
       "      <td>18.11591</td>\n",
       "      <td>121.01424</td>\n",
       "      <td>335.3</td>\n",
       "      <td>0.64</td>\n",
       "      <td>0.72</td>\n",
       "      <td>2021-04-04</td>\n",
       "      <td>41200</td>\n",
       "      <td>nominal</td>\n",
       "      <td>293.3</td>\n",
       "      <td>5.8</td>\n",
       "      <td>D</td>\n",
       "      <td>POINT (121.01424 18.11591)</td>\n",
       "      <td>147.0</td>\n",
       "      <td>104256076.0</td>\n",
       "      <td>Asia</td>\n",
       "      <td>Philippines</td>\n",
       "      <td>PHL</td>\n",
       "      <td>801900.0</td>\n",
       "    </tr>\n",
       "    <tr>\n",
       "      <th>4</th>\n",
       "      <td>2021-04-04 04:00:00</td>\n",
       "      <td>18.13276</td>\n",
       "      <td>121.08784</td>\n",
       "      <td>367.0</td>\n",
       "      <td>0.63</td>\n",
       "      <td>0.72</td>\n",
       "      <td>2021-04-04</td>\n",
       "      <td>41200</td>\n",
       "      <td>high</td>\n",
       "      <td>290.6</td>\n",
       "      <td>24.8</td>\n",
       "      <td>D</td>\n",
       "      <td>POINT (121.08784 18.13276)</td>\n",
       "      <td>147.0</td>\n",
       "      <td>104256076.0</td>\n",
       "      <td>Asia</td>\n",
       "      <td>Philippines</td>\n",
       "      <td>PHL</td>\n",
       "      <td>801900.0</td>\n",
       "    </tr>\n",
       "  </tbody>\n",
       "</table>\n",
       "</div>"
      ],
      "text/plain": [
       "               period  latitude  longitude  bright_ti4  scan  track  \\\n",
       "0 2021-04-04 04:00:00  -2.43573  133.13229       328.8  0.44   0.46   \n",
       "1 2021-04-04 04:00:00  -2.10197  133.62312       327.6  0.41   0.45   \n",
       "2 2021-04-04 04:00:00  -1.07484  131.30426       328.6  0.56   0.52   \n",
       "3 2021-04-04 04:00:00  18.11591  121.01424       335.3  0.64   0.72   \n",
       "4 2021-04-04 04:00:00  18.13276  121.08784       367.0  0.63   0.72   \n",
       "\n",
       "    acq_date  acq_time confidence  bright_ti5   frp daynight  \\\n",
       "0 2021-04-04     40600    nominal       291.3   2.0        D   \n",
       "1 2021-04-04     40600    nominal       293.9   1.8        D   \n",
       "2 2021-04-04     40600    nominal       290.3   2.7        D   \n",
       "3 2021-04-04     41200    nominal       293.3   5.8        D   \n",
       "4 2021-04-04     41200       high       290.6  24.8        D   \n",
       "\n",
       "                     geometry  index_right      pop_est continent  \\\n",
       "0  POINT (133.13229 -2.43573)          NaN          NaN       NaN   \n",
       "1  POINT (133.62312 -2.10197)          8.0  260580739.0      Asia   \n",
       "2  POINT (131.30426 -1.07484)          8.0  260580739.0      Asia   \n",
       "3  POINT (121.01424 18.11591)        147.0  104256076.0      Asia   \n",
       "4  POINT (121.08784 18.13276)        147.0  104256076.0      Asia   \n",
       "\n",
       "          name iso_a3  gdp_md_est  \n",
       "0          NaN    NaN         NaN  \n",
       "1    Indonesia    IDN   3028000.0  \n",
       "2    Indonesia    IDN   3028000.0  \n",
       "3  Philippines    PHL    801900.0  \n",
       "4  Philippines    PHL    801900.0  "
      ]
     },
     "execution_count": 38,
     "metadata": {},
     "output_type": "execute_result"
    }
   ],
   "source": [
    "# Converting latitude and longitude values to location values\n",
    "\n",
    "world = gpd.read_file(gpd.datasets.get_path('naturalearth_lowres'))\n",
    "gdf = gpd.GeoDataFrame(data, geometry=gpd.points_from_xy(data['longitude'], data['latitude']), crs={'init': 'epsg:4326'})\n",
    "result = gpd.sjoin(gdf, world, how='left')\n",
    "result.head()"
   ]
  },
  {
   "cell_type": "code",
   "execution_count": 39,
   "id": "0eT5IQGz9A68",
   "metadata": {
    "executionInfo": {
     "elapsed": 21329,
     "status": "aborted",
     "timestamp": 1618017837725,
     "user": {
      "displayName": "qing 1",
      "photoUrl": "",
      "userId": "17349177959796089200"
     },
     "user_tz": -480
    },
    "id": "0eT5IQGz9A68"
   },
   "outputs": [
    {
     "data": {
      "text/html": [
       "<div>\n",
       "<style scoped>\n",
       "    .dataframe tbody tr th:only-of-type {\n",
       "        vertical-align: middle;\n",
       "    }\n",
       "\n",
       "    .dataframe tbody tr th {\n",
       "        vertical-align: top;\n",
       "    }\n",
       "\n",
       "    .dataframe thead th {\n",
       "        text-align: right;\n",
       "    }\n",
       "</style>\n",
       "<table border=\"1\" class=\"dataframe\">\n",
       "  <thead>\n",
       "    <tr style=\"text-align: right;\">\n",
       "      <th></th>\n",
       "      <th>period</th>\n",
       "      <th>latitude</th>\n",
       "      <th>longitude</th>\n",
       "      <th>bright_ti4</th>\n",
       "      <th>scan</th>\n",
       "      <th>track</th>\n",
       "      <th>acq_date</th>\n",
       "      <th>acq_time</th>\n",
       "      <th>confidence</th>\n",
       "      <th>bright_ti5</th>\n",
       "      <th>frp</th>\n",
       "      <th>daynight</th>\n",
       "      <th>pop_est</th>\n",
       "      <th>continent</th>\n",
       "      <th>name</th>\n",
       "    </tr>\n",
       "  </thead>\n",
       "  <tbody>\n",
       "    <tr>\n",
       "      <th>0</th>\n",
       "      <td>2021-04-04 04:00:00</td>\n",
       "      <td>-2.43573</td>\n",
       "      <td>133.13229</td>\n",
       "      <td>328.8</td>\n",
       "      <td>0.44</td>\n",
       "      <td>0.46</td>\n",
       "      <td>2021-04-04</td>\n",
       "      <td>40600</td>\n",
       "      <td>nominal</td>\n",
       "      <td>291.3</td>\n",
       "      <td>2.0</td>\n",
       "      <td>D</td>\n",
       "      <td>NaN</td>\n",
       "      <td>NaN</td>\n",
       "      <td>NaN</td>\n",
       "    </tr>\n",
       "    <tr>\n",
       "      <th>1</th>\n",
       "      <td>2021-04-04 04:00:00</td>\n",
       "      <td>-2.10197</td>\n",
       "      <td>133.62312</td>\n",
       "      <td>327.6</td>\n",
       "      <td>0.41</td>\n",
       "      <td>0.45</td>\n",
       "      <td>2021-04-04</td>\n",
       "      <td>40600</td>\n",
       "      <td>nominal</td>\n",
       "      <td>293.9</td>\n",
       "      <td>1.8</td>\n",
       "      <td>D</td>\n",
       "      <td>260580739.0</td>\n",
       "      <td>Asia</td>\n",
       "      <td>Indonesia</td>\n",
       "    </tr>\n",
       "    <tr>\n",
       "      <th>2</th>\n",
       "      <td>2021-04-04 04:00:00</td>\n",
       "      <td>-1.07484</td>\n",
       "      <td>131.30426</td>\n",
       "      <td>328.6</td>\n",
       "      <td>0.56</td>\n",
       "      <td>0.52</td>\n",
       "      <td>2021-04-04</td>\n",
       "      <td>40600</td>\n",
       "      <td>nominal</td>\n",
       "      <td>290.3</td>\n",
       "      <td>2.7</td>\n",
       "      <td>D</td>\n",
       "      <td>260580739.0</td>\n",
       "      <td>Asia</td>\n",
       "      <td>Indonesia</td>\n",
       "    </tr>\n",
       "    <tr>\n",
       "      <th>3</th>\n",
       "      <td>2021-04-04 04:00:00</td>\n",
       "      <td>18.11591</td>\n",
       "      <td>121.01424</td>\n",
       "      <td>335.3</td>\n",
       "      <td>0.64</td>\n",
       "      <td>0.72</td>\n",
       "      <td>2021-04-04</td>\n",
       "      <td>41200</td>\n",
       "      <td>nominal</td>\n",
       "      <td>293.3</td>\n",
       "      <td>5.8</td>\n",
       "      <td>D</td>\n",
       "      <td>104256076.0</td>\n",
       "      <td>Asia</td>\n",
       "      <td>Philippines</td>\n",
       "    </tr>\n",
       "    <tr>\n",
       "      <th>4</th>\n",
       "      <td>2021-04-04 04:00:00</td>\n",
       "      <td>18.13276</td>\n",
       "      <td>121.08784</td>\n",
       "      <td>367.0</td>\n",
       "      <td>0.63</td>\n",
       "      <td>0.72</td>\n",
       "      <td>2021-04-04</td>\n",
       "      <td>41200</td>\n",
       "      <td>high</td>\n",
       "      <td>290.6</td>\n",
       "      <td>24.8</td>\n",
       "      <td>D</td>\n",
       "      <td>104256076.0</td>\n",
       "      <td>Asia</td>\n",
       "      <td>Philippines</td>\n",
       "    </tr>\n",
       "  </tbody>\n",
       "</table>\n",
       "</div>"
      ],
      "text/plain": [
       "               period  latitude  longitude  bright_ti4  scan  track  \\\n",
       "0 2021-04-04 04:00:00  -2.43573  133.13229       328.8  0.44   0.46   \n",
       "1 2021-04-04 04:00:00  -2.10197  133.62312       327.6  0.41   0.45   \n",
       "2 2021-04-04 04:00:00  -1.07484  131.30426       328.6  0.56   0.52   \n",
       "3 2021-04-04 04:00:00  18.11591  121.01424       335.3  0.64   0.72   \n",
       "4 2021-04-04 04:00:00  18.13276  121.08784       367.0  0.63   0.72   \n",
       "\n",
       "    acq_date  acq_time confidence  bright_ti5   frp daynight      pop_est  \\\n",
       "0 2021-04-04     40600    nominal       291.3   2.0        D          NaN   \n",
       "1 2021-04-04     40600    nominal       293.9   1.8        D  260580739.0   \n",
       "2 2021-04-04     40600    nominal       290.3   2.7        D  260580739.0   \n",
       "3 2021-04-04     41200    nominal       293.3   5.8        D  104256076.0   \n",
       "4 2021-04-04     41200       high       290.6  24.8        D  104256076.0   \n",
       "\n",
       "  continent         name  \n",
       "0       NaN          NaN  \n",
       "1      Asia    Indonesia  \n",
       "2      Asia    Indonesia  \n",
       "3      Asia  Philippines  \n",
       "4      Asia  Philippines  "
      ]
     },
     "execution_count": 39,
     "metadata": {},
     "output_type": "execute_result"
    }
   ],
   "source": [
    "# Remove irrelevant geometric information and NaN values\n",
    "result.drop(['geometry','index_right','iso_a3','gdp_md_est'],axis=1,inplace=True)\n",
    "result.head()"
   ]
  },
  {
   "cell_type": "code",
   "execution_count": 40,
   "id": "_06Vobj49A69",
   "metadata": {
    "executionInfo": {
     "elapsed": 21328,
     "status": "aborted",
     "timestamp": 1618017837726,
     "user": {
      "displayName": "qing 1",
      "photoUrl": "",
      "userId": "17349177959796089200"
     },
     "user_tz": -480
    },
    "id": "_06Vobj49A69"
   },
   "outputs": [
    {
     "data": {
      "text/plain": [
       "period          0\n",
       "latitude        0\n",
       "longitude       0\n",
       "bright_ti4      0\n",
       "scan            0\n",
       "track           0\n",
       "acq_date        0\n",
       "acq_time        0\n",
       "confidence      0\n",
       "bright_ti5      0\n",
       "frp             0\n",
       "daynight        0\n",
       "pop_est       826\n",
       "continent     826\n",
       "name          826\n",
       "dtype: int64"
      ]
     },
     "execution_count": 40,
     "metadata": {},
     "output_type": "execute_result"
    }
   ],
   "source": [
    "# Check for null values\n",
    "result.isnull().sum()"
   ]
  },
  {
   "cell_type": "code",
   "execution_count": 41,
   "id": "fB572Kga9A6-",
   "metadata": {
    "executionInfo": {
     "elapsed": 21328,
     "status": "aborted",
     "timestamp": 1618017837727,
     "user": {
      "displayName": "qing 1",
      "photoUrl": "",
      "userId": "17349177959796089200"
     },
     "user_tz": -480
    },
    "id": "fB572Kga9A6-"
   },
   "outputs": [
    {
     "data": {
      "text/plain": [
       "period        0\n",
       "latitude      0\n",
       "longitude     0\n",
       "bright_ti4    0\n",
       "scan          0\n",
       "track         0\n",
       "acq_date      0\n",
       "acq_time      0\n",
       "confidence    0\n",
       "bright_ti5    0\n",
       "frp           0\n",
       "daynight      0\n",
       "pop_est       0\n",
       "continent     0\n",
       "name          0\n",
       "dtype: int64"
      ]
     },
     "execution_count": 41,
     "metadata": {},
     "output_type": "execute_result"
    }
   ],
   "source": [
    "# Above means there are null values present. \n",
    "# Solution: remove rows\n",
    "result.dropna(inplace=True)\n",
    "result.reset_index(inplace=True,drop=True) # reset index of dataframe to account for missing values\n",
    "result.isnull().sum()"
   ]
  },
  {
   "cell_type": "code",
   "execution_count": 42,
   "id": "bPbgDCNa9A6_",
   "metadata": {
    "executionInfo": {
     "elapsed": 21325,
     "status": "aborted",
     "timestamp": 1618017837727,
     "user": {
      "displayName": "qing 1",
      "photoUrl": "",
      "userId": "17349177959796089200"
     },
     "user_tz": -480
    },
    "id": "bPbgDCNa9A6_"
   },
   "outputs": [
    {
     "data": {
      "text/html": [
       "<div>\n",
       "<style scoped>\n",
       "    .dataframe tbody tr th:only-of-type {\n",
       "        vertical-align: middle;\n",
       "    }\n",
       "\n",
       "    .dataframe tbody tr th {\n",
       "        vertical-align: top;\n",
       "    }\n",
       "\n",
       "    .dataframe thead th {\n",
       "        text-align: right;\n",
       "    }\n",
       "</style>\n",
       "<table border=\"1\" class=\"dataframe\">\n",
       "  <thead>\n",
       "    <tr style=\"text-align: right;\">\n",
       "      <th></th>\n",
       "      <th>period</th>\n",
       "      <th>latitude</th>\n",
       "      <th>longitude</th>\n",
       "      <th>bright_ti4</th>\n",
       "      <th>scan</th>\n",
       "      <th>track</th>\n",
       "      <th>acq_date</th>\n",
       "      <th>acq_time</th>\n",
       "      <th>confidence</th>\n",
       "      <th>bright_ti5</th>\n",
       "      <th>frp</th>\n",
       "      <th>daynight</th>\n",
       "      <th>pop_est</th>\n",
       "      <th>continent</th>\n",
       "      <th>name</th>\n",
       "    </tr>\n",
       "  </thead>\n",
       "  <tbody>\n",
       "    <tr>\n",
       "      <th>0</th>\n",
       "      <td>2021-04-04 04:00:00</td>\n",
       "      <td>-2.10197</td>\n",
       "      <td>133.62312</td>\n",
       "      <td>327.6</td>\n",
       "      <td>0.41</td>\n",
       "      <td>0.45</td>\n",
       "      <td>2021-04-04</td>\n",
       "      <td>40600</td>\n",
       "      <td>nominal</td>\n",
       "      <td>293.9</td>\n",
       "      <td>1.8</td>\n",
       "      <td>D</td>\n",
       "      <td>260580739.0</td>\n",
       "      <td>Asia</td>\n",
       "      <td>Indonesia</td>\n",
       "    </tr>\n",
       "    <tr>\n",
       "      <th>1</th>\n",
       "      <td>2021-04-04 04:00:00</td>\n",
       "      <td>-1.07484</td>\n",
       "      <td>131.30426</td>\n",
       "      <td>328.6</td>\n",
       "      <td>0.56</td>\n",
       "      <td>0.52</td>\n",
       "      <td>2021-04-04</td>\n",
       "      <td>40600</td>\n",
       "      <td>nominal</td>\n",
       "      <td>290.3</td>\n",
       "      <td>2.7</td>\n",
       "      <td>D</td>\n",
       "      <td>260580739.0</td>\n",
       "      <td>Asia</td>\n",
       "      <td>Indonesia</td>\n",
       "    </tr>\n",
       "    <tr>\n",
       "      <th>2</th>\n",
       "      <td>2021-04-04 04:00:00</td>\n",
       "      <td>18.11591</td>\n",
       "      <td>121.01424</td>\n",
       "      <td>335.3</td>\n",
       "      <td>0.64</td>\n",
       "      <td>0.72</td>\n",
       "      <td>2021-04-04</td>\n",
       "      <td>41200</td>\n",
       "      <td>nominal</td>\n",
       "      <td>293.3</td>\n",
       "      <td>5.8</td>\n",
       "      <td>D</td>\n",
       "      <td>104256076.0</td>\n",
       "      <td>Asia</td>\n",
       "      <td>Philippines</td>\n",
       "    </tr>\n",
       "    <tr>\n",
       "      <th>3</th>\n",
       "      <td>2021-04-04 04:00:00</td>\n",
       "      <td>18.13276</td>\n",
       "      <td>121.08784</td>\n",
       "      <td>367.0</td>\n",
       "      <td>0.63</td>\n",
       "      <td>0.72</td>\n",
       "      <td>2021-04-04</td>\n",
       "      <td>41200</td>\n",
       "      <td>high</td>\n",
       "      <td>290.6</td>\n",
       "      <td>24.8</td>\n",
       "      <td>D</td>\n",
       "      <td>104256076.0</td>\n",
       "      <td>Asia</td>\n",
       "      <td>Philippines</td>\n",
       "    </tr>\n",
       "    <tr>\n",
       "      <th>4</th>\n",
       "      <td>2021-04-04 04:00:00</td>\n",
       "      <td>18.12650</td>\n",
       "      <td>121.09029</td>\n",
       "      <td>367.0</td>\n",
       "      <td>0.63</td>\n",
       "      <td>0.72</td>\n",
       "      <td>2021-04-04</td>\n",
       "      <td>41200</td>\n",
       "      <td>high</td>\n",
       "      <td>292.1</td>\n",
       "      <td>24.8</td>\n",
       "      <td>D</td>\n",
       "      <td>104256076.0</td>\n",
       "      <td>Asia</td>\n",
       "      <td>Philippines</td>\n",
       "    </tr>\n",
       "  </tbody>\n",
       "</table>\n",
       "</div>"
      ],
      "text/plain": [
       "               period  latitude  longitude  bright_ti4  scan  track  \\\n",
       "0 2021-04-04 04:00:00  -2.10197  133.62312       327.6  0.41   0.45   \n",
       "1 2021-04-04 04:00:00  -1.07484  131.30426       328.6  0.56   0.52   \n",
       "2 2021-04-04 04:00:00  18.11591  121.01424       335.3  0.64   0.72   \n",
       "3 2021-04-04 04:00:00  18.13276  121.08784       367.0  0.63   0.72   \n",
       "4 2021-04-04 04:00:00  18.12650  121.09029       367.0  0.63   0.72   \n",
       "\n",
       "    acq_date  acq_time confidence  bright_ti5   frp daynight      pop_est  \\\n",
       "0 2021-04-04     40600    nominal       293.9   1.8        D  260580739.0   \n",
       "1 2021-04-04     40600    nominal       290.3   2.7        D  260580739.0   \n",
       "2 2021-04-04     41200    nominal       293.3   5.8        D  104256076.0   \n",
       "3 2021-04-04     41200       high       290.6  24.8        D  104256076.0   \n",
       "4 2021-04-04     41200       high       292.1  24.8        D  104256076.0   \n",
       "\n",
       "  continent         name  \n",
       "0      Asia    Indonesia  \n",
       "1      Asia    Indonesia  \n",
       "2      Asia  Philippines  \n",
       "3      Asia  Philippines  \n",
       "4      Asia  Philippines  "
      ]
     },
     "execution_count": 42,
     "metadata": {},
     "output_type": "execute_result"
    }
   ],
   "source": [
    "# Visualize clean dataset\n",
    "result.head()"
   ]
  },
  {
   "cell_type": "markdown",
   "id": "6b848b0a",
   "metadata": {},
   "source": [
    "## 4.2 | One Hot Encoding"
   ]
  },
  {
   "cell_type": "code",
   "execution_count": 43,
   "id": "37e85c36",
   "metadata": {
    "executionInfo": {
     "elapsed": 21325,
     "status": "aborted",
     "timestamp": 1618017837728,
     "user": {
      "displayName": "qing 1",
      "photoUrl": "",
      "userId": "17349177959796089200"
     },
     "user_tz": -480
    },
    "id": "37e85c36"
   },
   "outputs": [],
   "source": [
    "# One Hot Encoding\n",
    "from sklearn.preprocessing import OneHotEncoder\n",
    "\n",
    "enc = OneHotEncoder(handle_unknown='ignore')\n",
    "\n",
    "ohe_confidence = pd.DataFrame(enc.fit_transform(result[['confidence']]).toarray())\n",
    "ohe_confidence.columns = enc.get_feature_names(['confidence'])\n",
    "#ohe_confidence.head()\n",
    "\n",
    "ohe_daynight = pd.DataFrame(enc.fit_transform(result[['daynight']]).toarray())\n",
    "ohe_daynight.columns = enc.get_feature_names(['daynight'])\n",
    "# ohe_daynight.head()\n",
    "\n",
    "ohe_continent = pd.DataFrame(enc.fit_transform(result[['continent']]).toarray())\n",
    "ohe_continent.columns = enc.get_feature_names(['continent'])\n",
    "# ohe_continent.head()\n",
    "\n",
    "ohe_name = pd.DataFrame(enc.fit_transform(result[['name']]).toarray())\n",
    "ohe_name.columns = enc.get_feature_names(['name'])\n",
    "# ohe_name.head()"
   ]
  },
  {
   "cell_type": "code",
   "execution_count": 44,
   "id": "684ccb09",
   "metadata": {},
   "outputs": [
    {
     "data": {
      "text/html": [
       "<div>\n",
       "<style scoped>\n",
       "    .dataframe tbody tr th:only-of-type {\n",
       "        vertical-align: middle;\n",
       "    }\n",
       "\n",
       "    .dataframe tbody tr th {\n",
       "        vertical-align: top;\n",
       "    }\n",
       "\n",
       "    .dataframe thead th {\n",
       "        text-align: right;\n",
       "    }\n",
       "</style>\n",
       "<table border=\"1\" class=\"dataframe\">\n",
       "  <thead>\n",
       "    <tr style=\"text-align: right;\">\n",
       "      <th></th>\n",
       "      <th>period</th>\n",
       "      <th>latitude</th>\n",
       "      <th>longitude</th>\n",
       "      <th>bright_ti4</th>\n",
       "      <th>scan</th>\n",
       "      <th>track</th>\n",
       "      <th>acq_date</th>\n",
       "      <th>acq_time</th>\n",
       "      <th>bright_ti5</th>\n",
       "      <th>frp</th>\n",
       "      <th>...</th>\n",
       "      <th>name_Indonesia</th>\n",
       "      <th>name_Laos</th>\n",
       "      <th>name_Malaysia</th>\n",
       "      <th>name_Myanmar</th>\n",
       "      <th>name_Nepal</th>\n",
       "      <th>name_Papua New Guinea</th>\n",
       "      <th>name_Philippines</th>\n",
       "      <th>name_Taiwan</th>\n",
       "      <th>name_Thailand</th>\n",
       "      <th>name_Vietnam</th>\n",
       "    </tr>\n",
       "  </thead>\n",
       "  <tbody>\n",
       "    <tr>\n",
       "      <th>0</th>\n",
       "      <td>2021-04-04 04:00:00</td>\n",
       "      <td>-2.10197</td>\n",
       "      <td>133.62312</td>\n",
       "      <td>327.6</td>\n",
       "      <td>0.41</td>\n",
       "      <td>0.45</td>\n",
       "      <td>2021-04-04</td>\n",
       "      <td>40600</td>\n",
       "      <td>293.9</td>\n",
       "      <td>1.8</td>\n",
       "      <td>...</td>\n",
       "      <td>1.0</td>\n",
       "      <td>0.0</td>\n",
       "      <td>0.0</td>\n",
       "      <td>0.0</td>\n",
       "      <td>0.0</td>\n",
       "      <td>0.0</td>\n",
       "      <td>0.0</td>\n",
       "      <td>0.0</td>\n",
       "      <td>0.0</td>\n",
       "      <td>0.0</td>\n",
       "    </tr>\n",
       "    <tr>\n",
       "      <th>1</th>\n",
       "      <td>2021-04-04 04:00:00</td>\n",
       "      <td>-1.07484</td>\n",
       "      <td>131.30426</td>\n",
       "      <td>328.6</td>\n",
       "      <td>0.56</td>\n",
       "      <td>0.52</td>\n",
       "      <td>2021-04-04</td>\n",
       "      <td>40600</td>\n",
       "      <td>290.3</td>\n",
       "      <td>2.7</td>\n",
       "      <td>...</td>\n",
       "      <td>1.0</td>\n",
       "      <td>0.0</td>\n",
       "      <td>0.0</td>\n",
       "      <td>0.0</td>\n",
       "      <td>0.0</td>\n",
       "      <td>0.0</td>\n",
       "      <td>0.0</td>\n",
       "      <td>0.0</td>\n",
       "      <td>0.0</td>\n",
       "      <td>0.0</td>\n",
       "    </tr>\n",
       "    <tr>\n",
       "      <th>2</th>\n",
       "      <td>2021-04-04 04:00:00</td>\n",
       "      <td>18.11591</td>\n",
       "      <td>121.01424</td>\n",
       "      <td>335.3</td>\n",
       "      <td>0.64</td>\n",
       "      <td>0.72</td>\n",
       "      <td>2021-04-04</td>\n",
       "      <td>41200</td>\n",
       "      <td>293.3</td>\n",
       "      <td>5.8</td>\n",
       "      <td>...</td>\n",
       "      <td>0.0</td>\n",
       "      <td>0.0</td>\n",
       "      <td>0.0</td>\n",
       "      <td>0.0</td>\n",
       "      <td>0.0</td>\n",
       "      <td>0.0</td>\n",
       "      <td>1.0</td>\n",
       "      <td>0.0</td>\n",
       "      <td>0.0</td>\n",
       "      <td>0.0</td>\n",
       "    </tr>\n",
       "    <tr>\n",
       "      <th>3</th>\n",
       "      <td>2021-04-04 04:00:00</td>\n",
       "      <td>18.13276</td>\n",
       "      <td>121.08784</td>\n",
       "      <td>367.0</td>\n",
       "      <td>0.63</td>\n",
       "      <td>0.72</td>\n",
       "      <td>2021-04-04</td>\n",
       "      <td>41200</td>\n",
       "      <td>290.6</td>\n",
       "      <td>24.8</td>\n",
       "      <td>...</td>\n",
       "      <td>0.0</td>\n",
       "      <td>0.0</td>\n",
       "      <td>0.0</td>\n",
       "      <td>0.0</td>\n",
       "      <td>0.0</td>\n",
       "      <td>0.0</td>\n",
       "      <td>1.0</td>\n",
       "      <td>0.0</td>\n",
       "      <td>0.0</td>\n",
       "      <td>0.0</td>\n",
       "    </tr>\n",
       "    <tr>\n",
       "      <th>4</th>\n",
       "      <td>2021-04-04 04:00:00</td>\n",
       "      <td>18.12650</td>\n",
       "      <td>121.09029</td>\n",
       "      <td>367.0</td>\n",
       "      <td>0.63</td>\n",
       "      <td>0.72</td>\n",
       "      <td>2021-04-04</td>\n",
       "      <td>41200</td>\n",
       "      <td>292.1</td>\n",
       "      <td>24.8</td>\n",
       "      <td>...</td>\n",
       "      <td>0.0</td>\n",
       "      <td>0.0</td>\n",
       "      <td>0.0</td>\n",
       "      <td>0.0</td>\n",
       "      <td>0.0</td>\n",
       "      <td>0.0</td>\n",
       "      <td>1.0</td>\n",
       "      <td>0.0</td>\n",
       "      <td>0.0</td>\n",
       "      <td>0.0</td>\n",
       "    </tr>\n",
       "  </tbody>\n",
       "</table>\n",
       "<p>5 rows × 34 columns</p>\n",
       "</div>"
      ],
      "text/plain": [
       "               period  latitude  longitude  bright_ti4  scan  track  \\\n",
       "0 2021-04-04 04:00:00  -2.10197  133.62312       327.6  0.41   0.45   \n",
       "1 2021-04-04 04:00:00  -1.07484  131.30426       328.6  0.56   0.52   \n",
       "2 2021-04-04 04:00:00  18.11591  121.01424       335.3  0.64   0.72   \n",
       "3 2021-04-04 04:00:00  18.13276  121.08784       367.0  0.63   0.72   \n",
       "4 2021-04-04 04:00:00  18.12650  121.09029       367.0  0.63   0.72   \n",
       "\n",
       "    acq_date  acq_time  bright_ti5   frp  ...  name_Indonesia  name_Laos  \\\n",
       "0 2021-04-04     40600       293.9   1.8  ...             1.0        0.0   \n",
       "1 2021-04-04     40600       290.3   2.7  ...             1.0        0.0   \n",
       "2 2021-04-04     41200       293.3   5.8  ...             0.0        0.0   \n",
       "3 2021-04-04     41200       290.6  24.8  ...             0.0        0.0   \n",
       "4 2021-04-04     41200       292.1  24.8  ...             0.0        0.0   \n",
       "\n",
       "   name_Malaysia  name_Myanmar  name_Nepal  name_Papua New Guinea  \\\n",
       "0            0.0           0.0         0.0                    0.0   \n",
       "1            0.0           0.0         0.0                    0.0   \n",
       "2            0.0           0.0         0.0                    0.0   \n",
       "3            0.0           0.0         0.0                    0.0   \n",
       "4            0.0           0.0         0.0                    0.0   \n",
       "\n",
       "   name_Philippines  name_Taiwan  name_Thailand  name_Vietnam  \n",
       "0               0.0          0.0            0.0           0.0  \n",
       "1               0.0          0.0            0.0           0.0  \n",
       "2               1.0          0.0            0.0           0.0  \n",
       "3               1.0          0.0            0.0           0.0  \n",
       "4               1.0          0.0            0.0           0.0  \n",
       "\n",
       "[5 rows x 34 columns]"
      ]
     },
     "execution_count": 44,
     "metadata": {},
     "output_type": "execute_result"
    }
   ],
   "source": [
    "# Concatenate OHE variables with dataframe\n",
    "new_data = pd.concat([result,ohe_confidence,ohe_daynight,ohe_continent,ohe_name], axis=1)\n",
    "new_data.drop(['confidence', 'daynight','continent','name'], axis=1, inplace=True)\n",
    "new_data.head()"
   ]
  },
  {
   "cell_type": "markdown",
   "id": "42979cc0",
   "metadata": {
    "id": "42979cc0"
   },
   "source": [
    "## 4.3 | Splitting & Standardization"
   ]
  },
  {
   "cell_type": "code",
   "execution_count": 45,
   "id": "1f636d83",
   "metadata": {},
   "outputs": [
    {
     "data": {
      "text/plain": [
       "period                   datetime64[ns]\n",
       "latitude                        float64\n",
       "longitude                       float64\n",
       "bright_ti4                      float64\n",
       "scan                            float64\n",
       "track                           float64\n",
       "acq_date                 datetime64[ns]\n",
       "acq_time                          int32\n",
       "bright_ti5                      float64\n",
       "frp                             float64\n",
       "pop_est                         float64\n",
       "confidence_high                 float64\n",
       "confidence_low                  float64\n",
       "confidence_nominal              float64\n",
       "daynight_D                      float64\n",
       "daynight_N                      float64\n",
       "continent_Asia                  float64\n",
       "continent_Oceania               float64\n",
       "name_Bangladesh                 float64\n",
       "name_Bhutan                     float64\n",
       "name_Brunei                     float64\n",
       "name_Cambodia                   float64\n",
       "name_China                      float64\n",
       "name_India                      float64\n",
       "name_Indonesia                  float64\n",
       "name_Laos                       float64\n",
       "name_Malaysia                   float64\n",
       "name_Myanmar                    float64\n",
       "name_Nepal                      float64\n",
       "name_Papua New Guinea           float64\n",
       "name_Philippines                float64\n",
       "name_Taiwan                     float64\n",
       "name_Thailand                   float64\n",
       "name_Vietnam                    float64\n",
       "dtype: object"
      ]
     },
     "execution_count": 45,
     "metadata": {},
     "output_type": "execute_result"
    }
   ],
   "source": [
    "# Check datatypes of new dataframe\n",
    "new_data.dtypes"
   ]
  },
  {
   "cell_type": "code",
   "execution_count": 46,
   "id": "b082eed3",
   "metadata": {},
   "outputs": [
    {
     "data": {
      "text/plain": [
       "bright_ti4               float64\n",
       "scan                     float64\n",
       "track                    float64\n",
       "acq_time                   int32\n",
       "bright_ti5               float64\n",
       "frp                      float64\n",
       "pop_est                  float64\n",
       "confidence_high          float64\n",
       "confidence_low           float64\n",
       "confidence_nominal       float64\n",
       "daynight_D               float64\n",
       "daynight_N               float64\n",
       "continent_Asia           float64\n",
       "continent_Oceania        float64\n",
       "name_Bangladesh          float64\n",
       "name_Bhutan              float64\n",
       "name_Brunei              float64\n",
       "name_Cambodia            float64\n",
       "name_China               float64\n",
       "name_India               float64\n",
       "name_Indonesia           float64\n",
       "name_Laos                float64\n",
       "name_Malaysia            float64\n",
       "name_Myanmar             float64\n",
       "name_Nepal               float64\n",
       "name_Papua New Guinea    float64\n",
       "name_Philippines         float64\n",
       "name_Taiwan              float64\n",
       "name_Thailand            float64\n",
       "name_Vietnam             float64\n",
       "dtype: object"
      ]
     },
     "execution_count": 46,
     "metadata": {},
     "output_type": "execute_result"
    }
   ],
   "source": [
    "# Standardization can only be done on numeric data - hence, columns not of int or float type should be removed.\n",
    "new_data.drop(['period','acq_date','latitude','longitude'],axis=1,inplace=True)\n",
    "new_data.dtypes"
   ]
  },
  {
   "cell_type": "code",
   "execution_count": 47,
   "id": "c5d6dd10",
   "metadata": {},
   "outputs": [
    {
     "name": "stdout",
     "output_type": "stream",
     "text": [
      "['bright_ti4_20p', 'bright_ti4_40p', 'bright_ti4_60p', 'bright_ti4_80p', 'bright_ti4_100p']\n",
      "['scan_20p', 'scan_40p', 'scan_60p', 'scan_80p', 'scan_100p']\n",
      "['track_20p', 'track_40p', 'track_60p', 'track_80p', 'track_100p']\n",
      "['bright_ti5_20p', 'bright_ti5_40p', 'bright_ti5_60p', 'bright_ti5_80p', 'bright_ti5_100p']\n",
      "['pop_est_20p', 'pop_est_40p', 'pop_est_60p', 'pop_est_80p', 'pop_est_100p']\n",
      "['acq_time_25p', 'acq_time_50p', 'acq_time_75p', 'acq_time_100p']\n"
     ]
    }
   ],
   "source": [
    "# Generate labels for modified dataset\n",
    "mod_var = [[],[],[],[],[],[]]\n",
    "var = ['bright_ti4','scan','track','bright_ti5','pop_est']\n",
    "quantile = ['_20p','_40p','_60p','_80p','_100p']\n",
    "quartile = ['_25p','_50p','_75p','_100p']\n",
    "\n",
    "for x in range(len(var)):\n",
    "    mod_var[x] = [var[x] + value for value in quantile]\n",
    "    print (mod_var[x])\n",
    "mod_var[-1]=['acq_time'+value for value in quartile]\n",
    "print (mod_var[-1])"
   ]
  },
  {
   "cell_type": "code",
   "execution_count": 48,
   "id": "9d9499f1",
   "metadata": {},
   "outputs": [],
   "source": [
    "# Convert input to categorical input\n",
    "data_bright_ti4,data_bright_ti4_intervals=pd.qcut(new_data['bright_ti4'], 5, retbins=True,\n",
    "                        labels=mod_var[0])\n",
    "data_scan,data_scan_intervals=pd.qcut(new_data['scan'], 5, retbins=True,\n",
    "                        labels=mod_var[1])\n",
    "data_track,data_track_intervals=pd.qcut(new_data['track'], 5, retbins=True,\n",
    "                        labels=mod_var[2])\n",
    "data_bright_ti5,data_bright_ti5_intervals=pd.qcut(new_data['bright_ti5'], 5, retbins=True,\n",
    "                        labels=mod_var[3])\n",
    "data_pop_est,data_pop_est_intervals=pd.qcut(new_data['pop_est'], 5, retbins=True,\n",
    "                        labels=mod_var[4])\n",
    "data_acq_time,data_acq_time_intervals=pd.qcut(new_data['acq_time'], 4, retbins=True,\n",
    "                        labels=mod_var[5])"
   ]
  },
  {
   "cell_type": "code",
   "execution_count": 49,
   "id": "8f21c71d",
   "metadata": {},
   "outputs": [],
   "source": [
    "#Concatenate all to a single DF\n",
    "cont_var = pd.concat([data_bright_ti4,data_scan,data_track,data_bright_ti5,data_pop_est,data_acq_time], axis=1)"
   ]
  },
  {
   "cell_type": "code",
   "execution_count": 50,
   "id": "c4e1104a",
   "metadata": {},
   "outputs": [],
   "source": [
    "# One-Hot Encoding\n",
    "ohe_bright_ti4 = pd.DataFrame(enc.fit_transform(cont_var[['bright_ti4']]).toarray())\n",
    "ohe_bright_ti4.columns = enc.get_feature_names(['bright_ti4'])\n",
    "\n",
    "ohe_scan = pd.DataFrame(enc.fit_transform(cont_var[['scan']]).toarray())\n",
    "ohe_scan.columns = enc.get_feature_names(['scan'])\n",
    "\n",
    "ohe_track = pd.DataFrame(enc.fit_transform(cont_var[['track']]).toarray())\n",
    "ohe_track.columns = enc.get_feature_names(['track'])\n",
    "\n",
    "ohe_bright_ti5 = pd.DataFrame(enc.fit_transform(cont_var[['bright_ti5']]).toarray())\n",
    "ohe_bright_ti5.columns = enc.get_feature_names(['bright_ti5'])\n",
    "\n",
    "ohe_pop_est = pd.DataFrame(enc.fit_transform(cont_var[['pop_est']]).toarray())\n",
    "ohe_pop_est.columns = enc.get_feature_names(['pop_est'])\n",
    "\n",
    "ohe_acq_time = pd.DataFrame(enc.fit_transform(cont_var[['acq_time']]).toarray())\n",
    "ohe_acq_time.columns = enc.get_feature_names(['acq_time'])\n"
   ]
  },
  {
   "cell_type": "code",
   "execution_count": 51,
   "id": "1baf7145",
   "metadata": {},
   "outputs": [],
   "source": [
    "new_data.drop(['bright_ti4','scan','track','acq_time','bright_ti5','pop_est'],axis=1,inplace=True)\n",
    "new_data = pd.concat([ohe_bright_ti4,ohe_scan,ohe_track,ohe_bright_ti5,ohe_pop_est,ohe_acq_time,new_data],axis=1)"
   ]
  },
  {
   "cell_type": "code",
   "execution_count": 52,
   "id": "42c819ef",
   "metadata": {},
   "outputs": [
    {
     "data": {
      "text/html": [
       "<div>\n",
       "<style scoped>\n",
       "    .dataframe tbody tr th:only-of-type {\n",
       "        vertical-align: middle;\n",
       "    }\n",
       "\n",
       "    .dataframe tbody tr th {\n",
       "        vertical-align: top;\n",
       "    }\n",
       "\n",
       "    .dataframe thead th {\n",
       "        text-align: right;\n",
       "    }\n",
       "</style>\n",
       "<table border=\"1\" class=\"dataframe\">\n",
       "  <thead>\n",
       "    <tr style=\"text-align: right;\">\n",
       "      <th></th>\n",
       "      <th>bright_ti4_bright_ti4_100p</th>\n",
       "      <th>bright_ti4_bright_ti4_20p</th>\n",
       "      <th>bright_ti4_bright_ti4_40p</th>\n",
       "      <th>bright_ti4_bright_ti4_60p</th>\n",
       "      <th>bright_ti4_bright_ti4_80p</th>\n",
       "      <th>scan_scan_100p</th>\n",
       "      <th>scan_scan_20p</th>\n",
       "      <th>scan_scan_40p</th>\n",
       "      <th>scan_scan_60p</th>\n",
       "      <th>scan_scan_80p</th>\n",
       "      <th>...</th>\n",
       "      <th>name_Indonesia</th>\n",
       "      <th>name_Laos</th>\n",
       "      <th>name_Malaysia</th>\n",
       "      <th>name_Myanmar</th>\n",
       "      <th>name_Nepal</th>\n",
       "      <th>name_Papua New Guinea</th>\n",
       "      <th>name_Philippines</th>\n",
       "      <th>name_Taiwan</th>\n",
       "      <th>name_Thailand</th>\n",
       "      <th>name_Vietnam</th>\n",
       "    </tr>\n",
       "  </thead>\n",
       "  <tbody>\n",
       "    <tr>\n",
       "      <th>0</th>\n",
       "      <td>0.0</td>\n",
       "      <td>1.0</td>\n",
       "      <td>0.0</td>\n",
       "      <td>0.0</td>\n",
       "      <td>0.0</td>\n",
       "      <td>0.0</td>\n",
       "      <td>0.0</td>\n",
       "      <td>1.0</td>\n",
       "      <td>0.0</td>\n",
       "      <td>0.0</td>\n",
       "      <td>...</td>\n",
       "      <td>1.0</td>\n",
       "      <td>0.0</td>\n",
       "      <td>0.0</td>\n",
       "      <td>0.0</td>\n",
       "      <td>0.0</td>\n",
       "      <td>0.0</td>\n",
       "      <td>0.0</td>\n",
       "      <td>0.0</td>\n",
       "      <td>0.0</td>\n",
       "      <td>0.0</td>\n",
       "    </tr>\n",
       "    <tr>\n",
       "      <th>1</th>\n",
       "      <td>0.0</td>\n",
       "      <td>1.0</td>\n",
       "      <td>0.0</td>\n",
       "      <td>0.0</td>\n",
       "      <td>0.0</td>\n",
       "      <td>1.0</td>\n",
       "      <td>0.0</td>\n",
       "      <td>0.0</td>\n",
       "      <td>0.0</td>\n",
       "      <td>0.0</td>\n",
       "      <td>...</td>\n",
       "      <td>1.0</td>\n",
       "      <td>0.0</td>\n",
       "      <td>0.0</td>\n",
       "      <td>0.0</td>\n",
       "      <td>0.0</td>\n",
       "      <td>0.0</td>\n",
       "      <td>0.0</td>\n",
       "      <td>0.0</td>\n",
       "      <td>0.0</td>\n",
       "      <td>0.0</td>\n",
       "    </tr>\n",
       "    <tr>\n",
       "      <th>2</th>\n",
       "      <td>0.0</td>\n",
       "      <td>0.0</td>\n",
       "      <td>0.0</td>\n",
       "      <td>1.0</td>\n",
       "      <td>0.0</td>\n",
       "      <td>1.0</td>\n",
       "      <td>0.0</td>\n",
       "      <td>0.0</td>\n",
       "      <td>0.0</td>\n",
       "      <td>0.0</td>\n",
       "      <td>...</td>\n",
       "      <td>0.0</td>\n",
       "      <td>0.0</td>\n",
       "      <td>0.0</td>\n",
       "      <td>0.0</td>\n",
       "      <td>0.0</td>\n",
       "      <td>0.0</td>\n",
       "      <td>1.0</td>\n",
       "      <td>0.0</td>\n",
       "      <td>0.0</td>\n",
       "      <td>0.0</td>\n",
       "    </tr>\n",
       "    <tr>\n",
       "      <th>3</th>\n",
       "      <td>1.0</td>\n",
       "      <td>0.0</td>\n",
       "      <td>0.0</td>\n",
       "      <td>0.0</td>\n",
       "      <td>0.0</td>\n",
       "      <td>1.0</td>\n",
       "      <td>0.0</td>\n",
       "      <td>0.0</td>\n",
       "      <td>0.0</td>\n",
       "      <td>0.0</td>\n",
       "      <td>...</td>\n",
       "      <td>0.0</td>\n",
       "      <td>0.0</td>\n",
       "      <td>0.0</td>\n",
       "      <td>0.0</td>\n",
       "      <td>0.0</td>\n",
       "      <td>0.0</td>\n",
       "      <td>1.0</td>\n",
       "      <td>0.0</td>\n",
       "      <td>0.0</td>\n",
       "      <td>0.0</td>\n",
       "    </tr>\n",
       "    <tr>\n",
       "      <th>4</th>\n",
       "      <td>1.0</td>\n",
       "      <td>0.0</td>\n",
       "      <td>0.0</td>\n",
       "      <td>0.0</td>\n",
       "      <td>0.0</td>\n",
       "      <td>1.0</td>\n",
       "      <td>0.0</td>\n",
       "      <td>0.0</td>\n",
       "      <td>0.0</td>\n",
       "      <td>0.0</td>\n",
       "      <td>...</td>\n",
       "      <td>0.0</td>\n",
       "      <td>0.0</td>\n",
       "      <td>0.0</td>\n",
       "      <td>0.0</td>\n",
       "      <td>0.0</td>\n",
       "      <td>0.0</td>\n",
       "      <td>1.0</td>\n",
       "      <td>0.0</td>\n",
       "      <td>0.0</td>\n",
       "      <td>0.0</td>\n",
       "    </tr>\n",
       "  </tbody>\n",
       "</table>\n",
       "<p>5 rows × 53 columns</p>\n",
       "</div>"
      ],
      "text/plain": [
       "   bright_ti4_bright_ti4_100p  bright_ti4_bright_ti4_20p  \\\n",
       "0                         0.0                        1.0   \n",
       "1                         0.0                        1.0   \n",
       "2                         0.0                        0.0   \n",
       "3                         1.0                        0.0   \n",
       "4                         1.0                        0.0   \n",
       "\n",
       "   bright_ti4_bright_ti4_40p  bright_ti4_bright_ti4_60p  \\\n",
       "0                        0.0                        0.0   \n",
       "1                        0.0                        0.0   \n",
       "2                        0.0                        1.0   \n",
       "3                        0.0                        0.0   \n",
       "4                        0.0                        0.0   \n",
       "\n",
       "   bright_ti4_bright_ti4_80p  scan_scan_100p  scan_scan_20p  scan_scan_40p  \\\n",
       "0                        0.0             0.0            0.0            1.0   \n",
       "1                        0.0             1.0            0.0            0.0   \n",
       "2                        0.0             1.0            0.0            0.0   \n",
       "3                        0.0             1.0            0.0            0.0   \n",
       "4                        0.0             1.0            0.0            0.0   \n",
       "\n",
       "   scan_scan_60p  scan_scan_80p  ...  name_Indonesia  name_Laos  \\\n",
       "0            0.0            0.0  ...             1.0        0.0   \n",
       "1            0.0            0.0  ...             1.0        0.0   \n",
       "2            0.0            0.0  ...             0.0        0.0   \n",
       "3            0.0            0.0  ...             0.0        0.0   \n",
       "4            0.0            0.0  ...             0.0        0.0   \n",
       "\n",
       "   name_Malaysia  name_Myanmar  name_Nepal  name_Papua New Guinea  \\\n",
       "0            0.0           0.0         0.0                    0.0   \n",
       "1            0.0           0.0         0.0                    0.0   \n",
       "2            0.0           0.0         0.0                    0.0   \n",
       "3            0.0           0.0         0.0                    0.0   \n",
       "4            0.0           0.0         0.0                    0.0   \n",
       "\n",
       "   name_Philippines  name_Taiwan  name_Thailand  name_Vietnam  \n",
       "0               0.0          0.0            0.0           0.0  \n",
       "1               0.0          0.0            0.0           0.0  \n",
       "2               1.0          0.0            0.0           0.0  \n",
       "3               1.0          0.0            0.0           0.0  \n",
       "4               1.0          0.0            0.0           0.0  \n",
       "\n",
       "[5 rows x 53 columns]"
      ]
     },
     "execution_count": 52,
     "metadata": {},
     "output_type": "execute_result"
    }
   ],
   "source": [
    "new_data.head()"
   ]
  },
  {
   "cell_type": "code",
   "execution_count": 53,
   "id": "35637a9c",
   "metadata": {},
   "outputs": [],
   "source": [
    "# # Pre-Standardization Heatmap\n",
    "# plt.figure(3)\n",
    "# fig, ax = plt.subplots(figsize=(25,25)) \n",
    "# sns.heatmap(new_data.corr(method='pearson'),vmin=0,cmap=\"YlGnBu\",annot=True,ax=ax)"
   ]
  },
  {
   "cell_type": "markdown",
   "id": "976c202e",
   "metadata": {},
   "source": [
    "Standardization should only be done on numeric variables. However, to prevent the problem of data leakage, where information from outside the training dataset is used to create the training model, the datasets will be split into the training, test and validation datasets before the numeric data will be standardized.\n",
    "\n",
    "src: [Data Leakage](https://machinelearningmastery.com/data-leakage-machine-learning/)"
   ]
  },
  {
   "cell_type": "code",
   "execution_count": 54,
   "id": "0797365f",
   "metadata": {},
   "outputs": [
    {
     "data": {
      "text/html": [
       "<div>\n",
       "<style scoped>\n",
       "    .dataframe tbody tr th:only-of-type {\n",
       "        vertical-align: middle;\n",
       "    }\n",
       "\n",
       "    .dataframe tbody tr th {\n",
       "        vertical-align: top;\n",
       "    }\n",
       "\n",
       "    .dataframe thead th {\n",
       "        text-align: right;\n",
       "    }\n",
       "</style>\n",
       "<table border=\"1\" class=\"dataframe\">\n",
       "  <thead>\n",
       "    <tr style=\"text-align: right;\">\n",
       "      <th></th>\n",
       "      <th>bright_ti4_bright_ti4_100p</th>\n",
       "      <th>bright_ti4_bright_ti4_20p</th>\n",
       "      <th>bright_ti4_bright_ti4_40p</th>\n",
       "      <th>bright_ti4_bright_ti4_60p</th>\n",
       "      <th>bright_ti4_bright_ti4_80p</th>\n",
       "      <th>scan_scan_100p</th>\n",
       "      <th>scan_scan_20p</th>\n",
       "      <th>scan_scan_40p</th>\n",
       "      <th>scan_scan_60p</th>\n",
       "      <th>scan_scan_80p</th>\n",
       "      <th>...</th>\n",
       "      <th>name_Indonesia</th>\n",
       "      <th>name_Laos</th>\n",
       "      <th>name_Malaysia</th>\n",
       "      <th>name_Myanmar</th>\n",
       "      <th>name_Nepal</th>\n",
       "      <th>name_Papua New Guinea</th>\n",
       "      <th>name_Philippines</th>\n",
       "      <th>name_Taiwan</th>\n",
       "      <th>name_Thailand</th>\n",
       "      <th>name_Vietnam</th>\n",
       "    </tr>\n",
       "  </thead>\n",
       "  <tbody>\n",
       "    <tr>\n",
       "      <th>0</th>\n",
       "      <td>0.0</td>\n",
       "      <td>1.0</td>\n",
       "      <td>0.0</td>\n",
       "      <td>0.0</td>\n",
       "      <td>0.0</td>\n",
       "      <td>0.0</td>\n",
       "      <td>0.0</td>\n",
       "      <td>1.0</td>\n",
       "      <td>0.0</td>\n",
       "      <td>0.0</td>\n",
       "      <td>...</td>\n",
       "      <td>1.0</td>\n",
       "      <td>0.0</td>\n",
       "      <td>0.0</td>\n",
       "      <td>0.0</td>\n",
       "      <td>0.0</td>\n",
       "      <td>0.0</td>\n",
       "      <td>0.0</td>\n",
       "      <td>0.0</td>\n",
       "      <td>0.0</td>\n",
       "      <td>0.0</td>\n",
       "    </tr>\n",
       "    <tr>\n",
       "      <th>1</th>\n",
       "      <td>0.0</td>\n",
       "      <td>1.0</td>\n",
       "      <td>0.0</td>\n",
       "      <td>0.0</td>\n",
       "      <td>0.0</td>\n",
       "      <td>1.0</td>\n",
       "      <td>0.0</td>\n",
       "      <td>0.0</td>\n",
       "      <td>0.0</td>\n",
       "      <td>0.0</td>\n",
       "      <td>...</td>\n",
       "      <td>1.0</td>\n",
       "      <td>0.0</td>\n",
       "      <td>0.0</td>\n",
       "      <td>0.0</td>\n",
       "      <td>0.0</td>\n",
       "      <td>0.0</td>\n",
       "      <td>0.0</td>\n",
       "      <td>0.0</td>\n",
       "      <td>0.0</td>\n",
       "      <td>0.0</td>\n",
       "    </tr>\n",
       "    <tr>\n",
       "      <th>2</th>\n",
       "      <td>0.0</td>\n",
       "      <td>0.0</td>\n",
       "      <td>0.0</td>\n",
       "      <td>1.0</td>\n",
       "      <td>0.0</td>\n",
       "      <td>1.0</td>\n",
       "      <td>0.0</td>\n",
       "      <td>0.0</td>\n",
       "      <td>0.0</td>\n",
       "      <td>0.0</td>\n",
       "      <td>...</td>\n",
       "      <td>0.0</td>\n",
       "      <td>0.0</td>\n",
       "      <td>0.0</td>\n",
       "      <td>0.0</td>\n",
       "      <td>0.0</td>\n",
       "      <td>0.0</td>\n",
       "      <td>1.0</td>\n",
       "      <td>0.0</td>\n",
       "      <td>0.0</td>\n",
       "      <td>0.0</td>\n",
       "    </tr>\n",
       "    <tr>\n",
       "      <th>3</th>\n",
       "      <td>1.0</td>\n",
       "      <td>0.0</td>\n",
       "      <td>0.0</td>\n",
       "      <td>0.0</td>\n",
       "      <td>0.0</td>\n",
       "      <td>1.0</td>\n",
       "      <td>0.0</td>\n",
       "      <td>0.0</td>\n",
       "      <td>0.0</td>\n",
       "      <td>0.0</td>\n",
       "      <td>...</td>\n",
       "      <td>0.0</td>\n",
       "      <td>0.0</td>\n",
       "      <td>0.0</td>\n",
       "      <td>0.0</td>\n",
       "      <td>0.0</td>\n",
       "      <td>0.0</td>\n",
       "      <td>1.0</td>\n",
       "      <td>0.0</td>\n",
       "      <td>0.0</td>\n",
       "      <td>0.0</td>\n",
       "    </tr>\n",
       "    <tr>\n",
       "      <th>4</th>\n",
       "      <td>1.0</td>\n",
       "      <td>0.0</td>\n",
       "      <td>0.0</td>\n",
       "      <td>0.0</td>\n",
       "      <td>0.0</td>\n",
       "      <td>1.0</td>\n",
       "      <td>0.0</td>\n",
       "      <td>0.0</td>\n",
       "      <td>0.0</td>\n",
       "      <td>0.0</td>\n",
       "      <td>...</td>\n",
       "      <td>0.0</td>\n",
       "      <td>0.0</td>\n",
       "      <td>0.0</td>\n",
       "      <td>0.0</td>\n",
       "      <td>0.0</td>\n",
       "      <td>0.0</td>\n",
       "      <td>1.0</td>\n",
       "      <td>0.0</td>\n",
       "      <td>0.0</td>\n",
       "      <td>0.0</td>\n",
       "    </tr>\n",
       "  </tbody>\n",
       "</table>\n",
       "<p>5 rows × 52 columns</p>\n",
       "</div>"
      ],
      "text/plain": [
       "   bright_ti4_bright_ti4_100p  bright_ti4_bright_ti4_20p  \\\n",
       "0                         0.0                        1.0   \n",
       "1                         0.0                        1.0   \n",
       "2                         0.0                        0.0   \n",
       "3                         1.0                        0.0   \n",
       "4                         1.0                        0.0   \n",
       "\n",
       "   bright_ti4_bright_ti4_40p  bright_ti4_bright_ti4_60p  \\\n",
       "0                        0.0                        0.0   \n",
       "1                        0.0                        0.0   \n",
       "2                        0.0                        1.0   \n",
       "3                        0.0                        0.0   \n",
       "4                        0.0                        0.0   \n",
       "\n",
       "   bright_ti4_bright_ti4_80p  scan_scan_100p  scan_scan_20p  scan_scan_40p  \\\n",
       "0                        0.0             0.0            0.0            1.0   \n",
       "1                        0.0             1.0            0.0            0.0   \n",
       "2                        0.0             1.0            0.0            0.0   \n",
       "3                        0.0             1.0            0.0            0.0   \n",
       "4                        0.0             1.0            0.0            0.0   \n",
       "\n",
       "   scan_scan_60p  scan_scan_80p  ...  name_Indonesia  name_Laos  \\\n",
       "0            0.0            0.0  ...             1.0        0.0   \n",
       "1            0.0            0.0  ...             1.0        0.0   \n",
       "2            0.0            0.0  ...             0.0        0.0   \n",
       "3            0.0            0.0  ...             0.0        0.0   \n",
       "4            0.0            0.0  ...             0.0        0.0   \n",
       "\n",
       "   name_Malaysia  name_Myanmar  name_Nepal  name_Papua New Guinea  \\\n",
       "0            0.0           0.0         0.0                    0.0   \n",
       "1            0.0           0.0         0.0                    0.0   \n",
       "2            0.0           0.0         0.0                    0.0   \n",
       "3            0.0           0.0         0.0                    0.0   \n",
       "4            0.0           0.0         0.0                    0.0   \n",
       "\n",
       "   name_Philippines  name_Taiwan  name_Thailand  name_Vietnam  \n",
       "0               0.0          0.0            0.0           0.0  \n",
       "1               0.0          0.0            0.0           0.0  \n",
       "2               1.0          0.0            0.0           0.0  \n",
       "3               1.0          0.0            0.0           0.0  \n",
       "4               1.0          0.0            0.0           0.0  \n",
       "\n",
       "[5 rows x 52 columns]"
      ]
     },
     "execution_count": 54,
     "metadata": {},
     "output_type": "execute_result"
    }
   ],
   "source": [
    "# Define input, output variables\n",
    "X = new_data.drop(['frp'], axis=1)\n",
    "y = pd.DataFrame(new_data['frp'])\n",
    "X.head()"
   ]
  },
  {
   "cell_type": "code",
   "execution_count": 55,
   "id": "d7d80524",
   "metadata": {},
   "outputs": [
    {
     "name": "stdout",
     "output_type": "stream",
     "text": [
      "Shape of Train Dataset (X,y): (19201, 52) , (19201, 1)\n",
      "Shape of Test Dataset (X,y): (6401, 52) , (6401, 1)\n",
      "Shape of Val Dataset (X,y): (6401, 52) , (6401, 1)\n"
     ]
    }
   ],
   "source": [
    "# Split dataset into train, test, val data with a 60-20-20 split\n",
    "from sklearn.model_selection import train_test_split\n",
    "\n",
    "# include random seed to fix randomization\n",
    "X_train, X_test, y_train, y_test = train_test_split(X,y,test_size=0.4,random_state=0) # split out train data \n",
    "X_test, X_val, y_test, y_val = train_test_split(X_test,y_test,test_size=0.5,random_state=0) # split test, val data\n",
    "\n",
    "# Check shape\n",
    "print (\"Shape of Train Dataset (X,y):\", X_train.shape, \",\", y_train.shape)\n",
    "print (\"Shape of Test Dataset (X,y):\", X_test.shape, \",\", y_test.shape)\n",
    "print (\"Shape of Val Dataset (X,y):\", X_val.shape, \",\", y_val.shape)"
   ]
  },
  {
   "cell_type": "code",
   "execution_count": 56,
   "id": "b6a26dc4",
   "metadata": {
    "executionInfo": {
     "elapsed": 21318,
     "status": "aborted",
     "timestamp": 1618017837728,
     "user": {
      "displayName": "qing 1",
      "photoUrl": "",
      "userId": "17349177959796089200"
     },
     "user_tz": -480
    },
    "id": "b6a26dc4"
   },
   "outputs": [],
   "source": [
    "# # Z-scoring Standardization\n",
    "\n",
    "# from sklearn.preprocessing import StandardScaler, Normalizer\n",
    "# def standardize(df):\n",
    "#     # create a scaler object\n",
    "#     std_scaler = StandardScaler()\n",
    "\n",
    "#     # fit and transform the data\n",
    "#     return pd.DataFrame(std_scaler.fit_transform(df), columns=df.columns)\n",
    "\n",
    "# numX_train = X_train[['bright_ti4','scan','track','acq_time','bright_ti5','pop_est']]\n",
    "# numX_train  = standardize(numX_train)\n",
    "# stdX_train = X_train.drop(['bright_ti4','scan','track','acq_time','bright_ti5','pop_est'], axis=1)\n",
    "# std_train = pd.concat([y_train,numX_train,stdX_train], axis=1)\n",
    "# plt.figure(4)\n",
    "# fig, ax = plt.subplots(figsize=(25,25)) \n",
    "# sns.heatmap(std_train.corr(method='pearson'),vmin=0,cmap=\"YlGnBu\",annot=True,ax=ax)"
   ]
  },
  {
   "cell_type": "code",
   "execution_count": 93,
   "id": "e3050caa",
   "metadata": {},
   "outputs": [
    {
     "name": "stdout",
     "output_type": "stream",
     "text": [
      "['bright_ti4_bright_ti4_100p', 'bright_ti5_bright_ti5_100p', 'confidence_low']\n"
     ]
    }
   ],
   "source": [
    "##convert to numpy to use with randomforest\n",
    "X_trainn = X_train.values\n",
    "y_trainn = y_train.values.reshape(-1,)\n",
    "\n",
    "# Import the model we are using\n",
    "from sklearn.ensemble import RandomForestRegressor\n",
    "# Instantiate model with 1000 decision trees\n",
    "rf = RandomForestRegressor(n_estimators = 200, random_state = 42)\n",
    "# Train the model on training data\n",
    "rf.fit(X_trainn, y_trainn);\n",
    "\n",
    "# get importance\n",
    "importance = rf.feature_importances_\n",
    "# summarize feature importance\n",
    "important_features_dict = {}\n",
    "for i,v in enumerate(importance):\n",
    "    important_features_dict[X_train.columns[i]] = v\n",
    "\n",
    "sorted_values = sorted(important_features_dict.values(),reverse=True) # Sort the values\n",
    "sorted_dict = {}\n",
    "\n",
    "for i in sorted_values:\n",
    "    for k in important_features_dict.keys():\n",
    "        if important_features_dict[k] == i:\n",
    "            sorted_dict[k] = important_features_dict[k]\n",
    "            break\n",
    "\n",
    "toplist = []\n",
    "for i in sorted_dict:\n",
    "    # print(i,sorted_dict[i])\n",
    "    toplist.append(i)\n",
    "\n",
    "first3vals = toplist[:3]\n",
    "print(first3vals)"
   ]
  },
  {
   "cell_type": "markdown",
   "id": "4532e638",
   "metadata": {},
   "source": [
    "From the heatmap, we can determine that the top 3 features that correlate with the Fire Radiative Power (FRP) is the Brightness Value from the I4 Channel (bright_ti4) and the I5 Channel (bright_ti5), along with the high confidence level of the satellite (confidence_high)."
   ]
  },
  {
   "cell_type": "markdown",
   "id": "E6ML0vR3Almd",
   "metadata": {
    "id": "E6ML0vR3Almd"
   },
   "source": [
    "# Models - Supervised Learning\n",
    "In this section, we shall be using our dataset o train two different models to attempt to predict a value of FRP (Fire Radiative Power). The two relevant features that we are using to predict FRP values would be bright_ti4 and bright_ti5. "
   ]
  },
  {
   "cell_type": "code",
   "execution_count": 94,
   "id": "I0GVozpBEfEh",
   "metadata": {
    "colab": {
     "base_uri": "https://localhost:8080/"
    },
    "executionInfo": {
     "elapsed": 762,
     "status": "ok",
     "timestamp": 1618017952482,
     "user": {
      "displayName": "qing 1",
      "photoUrl": "",
      "userId": "17349177959796089200"
     },
     "user_tz": -480
    },
    "id": "I0GVozpBEfEh",
    "outputId": "89d4b95b-ead5-4023-a995-b560be947b1b"
   },
   "outputs": [
    {
     "name": "stdout",
     "output_type": "stream",
     "text": [
      "   bright_ti4_bright_ti4_100p  bright_ti5_bright_ti5_100p  confidence_low\n",
      "0                         0.0                         0.0             0.0\n",
      "1                         0.0                         0.0             0.0\n",
      "2                         0.0                         0.0             0.0\n",
      "3                         1.0                         0.0             0.0\n",
      "4                         1.0                         0.0             0.0 (32003, 3)\n",
      "    frp\n",
      "0   1.8\n",
      "1   2.7\n",
      "2   5.8\n",
      "3  24.8\n",
      "4  24.8 (32003, 1)\n"
     ]
    }
   ],
   "source": [
    "#cleaning\n",
    "#we can set this data afterwards the features are selected, for now I'll just use ti columns\n",
    "data_xs = new_data[[first3vals[0], first3vals[1],first3vals[2]]]\n",
    "data_y = new_data[['frp']]\n",
    "\n",
    "print(data_xs[:5], data_xs.shape)\n",
    "print(data_y[:5], data_y.shape)"
   ]
  },
  {
   "cell_type": "code",
   "execution_count": null,
   "id": "Fiz7tng6BnkZ",
   "metadata": {
    "executionInfo": {
     "elapsed": 21305,
     "status": "aborted",
     "timestamp": 1618017837729,
     "user": {
      "displayName": "qing 1",
      "photoUrl": "",
      "userId": "17349177959796089200"
     },
     "user_tz": -480
    },
    "id": "Fiz7tng6BnkZ"
   },
   "outputs": [],
   "source": [
    "#visualization\n",
    "def scatterplot_XY(x, y):\n",
    "    plt.scatter(x, y, s=60, c='r', marker='+', label='Class0')\n",
    "    #plt.xlabel(x.keys())\n",
    "    plt.ylabel('frp') \n",
    "    plt.show()\n",
    "    plt.clf()\n",
    "\n",
    "\n",
    "for column in data_xs:\n",
    "    x= data_xs[column]\n",
    "    y = data_y\n",
    "    scatterplot_XY(x, y)"
   ]
  },
  {
   "cell_type": "markdown",
   "id": "oK3JXGd_GpcT",
   "metadata": {
    "id": "oK3JXGd_GpcT"
   },
   "source": [
    "Train-Validation-Test Split"
   ]
  },
  {
   "cell_type": "code",
   "execution_count": null,
   "id": "dBc84uMBGaB8",
   "metadata": {
    "colab": {
     "base_uri": "https://localhost:8080/"
    },
    "executionInfo": {
     "elapsed": 758,
     "status": "ok",
     "timestamp": 1618021547556,
     "user": {
      "displayName": "qing 1",
      "photoUrl": "",
      "userId": "17349177959796089200"
     },
     "user_tz": -480
    },
    "id": "dBc84uMBGaB8",
    "outputId": "5b03879a-3299-4012-f46c-7933eb014875"
   },
   "outputs": [],
   "source": [
    "# data for the models here\n",
    "data_xs = data_xs\n",
    "data_y = data_y\n",
    "\n",
    "#train-test split\n",
    "from sklearn.model_selection import train_test_split\n",
    "X_train, X_test, y_train, y_test = train_test_split(data_xs, data_y, test_size=0.2, random_state=0)\n",
    "\n",
    "print(X_train.shape, y_train.shape)\n",
    "print(X_test.shape, y_test.shape)\n"
   ]
  },
  {
   "cell_type": "code",
   "execution_count": null,
   "id": "k37NU2bYc6Em",
   "metadata": {
    "executionInfo": {
     "elapsed": 841,
     "status": "ok",
     "timestamp": 1618019498418,
     "user": {
      "displayName": "qing 1",
      "photoUrl": "",
      "userId": "17349177959796089200"
     },
     "user_tz": -480
    },
    "id": "k37NU2bYc6Em"
   },
   "outputs": [],
   "source": [
    "#train-validation Cross Validation with folds\n",
    "def crossvald(data_xs, data_y):\n",
    "  ### n_folds = 4\n",
    "\n",
    "  X_b1, X_b2, y_b1, y_b2 = train_test_split(data_xs, data_y, test_size=0.5, random_state=0)\n",
    "  X_1, X_2, y_1, y_2 = train_test_split(X_b1, y_b1, test_size=0.5, random_state=0)\n",
    "  X_3, X_4, y_3, y_4 = train_test_split(X_b2, y_b2, test_size=0.5, random_state=0)\n",
    "\n",
    "  cross_sets ={1:{'train_X': np.concatenate((X_2,X_3,X_4)),\n",
    "                  'train_y': np.concatenate((y_2,y_3,y_4)),\n",
    "                  'val_X': X_1,\n",
    "                  'val_y': y_1,\n",
    "                    },\n",
    "               2:{'train_X': np.concatenate((X_1,X_3,X_4)),\n",
    "                  'train_y': np.concatenate((y_1,y_3,y_4)),\n",
    "                  'val_X': X_2,\n",
    "                  'val_y': y_2,\n",
    "                    },\n",
    "               3:{'train_X': np.concatenate((X_2,X_1,X_4)),\n",
    "                  'train_y': np.concatenate((y_2,y_1,y_4)),\n",
    "                  'val_X': X_3,\n",
    "                  'val_y': y_3,\n",
    "                    },\n",
    "               4:{'train_X': np.concatenate((X_2,X_3,X_1)),\n",
    "                  'train_y': np.concatenate((y_2,y_3,y_1)),\n",
    "                  'val_X': X_4,\n",
    "                  'val_y': y_4,\n",
    "                    },\n",
    "               }\n",
    "\n",
    "  return cross_sets\n",
    "\n",
    "test = crossvald(X_train, y_train)"
   ]
  },
  {
   "cell_type": "code",
   "execution_count": null,
   "id": "txNEV4UMeRSQ",
   "metadata": {
    "colab": {
     "base_uri": "https://localhost:8080/"
    },
    "executionInfo": {
     "elapsed": 1049,
     "status": "ok",
     "timestamp": 1618019532287,
     "user": {
      "displayName": "qing 1",
      "photoUrl": "",
      "userId": "17349177959796089200"
     },
     "user_tz": -480
    },
    "id": "txNEV4UMeRSQ",
    "outputId": "4f78a55a-bd96-4607-861d-69cc2ab53ab2"
   },
   "outputs": [],
   "source": [
    "print(test[1]['train_X'].shape)\n",
    "print(test[1]['val_X'].shape)"
   ]
  },
  {
   "cell_type": "markdown",
   "id": "rj0KTw5GBUys",
   "metadata": {
    "id": "rj0KTw5GBUys"
   },
   "source": [
    "## 4.1 | Linear Regression Model\n",
    "Firstly, we shall be attempting to use a linear regression model to predict the continuous FRP values"
   ]
  },
  {
   "cell_type": "code",
   "execution_count": null,
   "id": "-Afp_QSzGh5d",
   "metadata": {
    "colab": {
     "base_uri": "https://localhost:8080/"
    },
    "id": "-Afp_QSzGh5d",
    "outputId": "a50c6b4a-dee8-4005-e065-322f02823579"
   },
   "outputs": [],
   "source": [
    "from sklearn.linear_model import LinearRegression\n",
    " \n",
    "def linear_reg(X,y):\n",
    "  reg = LinearRegression().fit(X, y)\n",
    "\n",
    "  #R^2 value, which is between -1 and 1\n",
    "  print(\"Model Loss of R^2:\", reg.score(X, y))\n",
    "\n",
    "  print(\"Coeffcients [x1,x2] : \", reg.coef_)\n",
    "  print(\"Intercept:\", reg.intercept_)\n",
    "  return reg\n",
    "\n",
    "reg_train = linear_reg(X_train, y_train)"
   ]
  },
  {
   "cell_type": "code",
   "execution_count": null,
   "id": "IALhd7DjN8w1",
   "metadata": {
    "colab": {
     "base_uri": "https://localhost:8080/"
    },
    "id": "IALhd7DjN8w1",
    "outputId": "14a04958-0755-44bb-c2ef-b3914b645cfd"
   },
   "outputs": [],
   "source": [
    "y_pred = reg_train.predict(X_test)\n",
    "\n",
    "print(y_pred[:5], type(y_pred), y_pred.shape)\n",
    "\n",
    "df = pd.DataFrame(data=np.concatenate((y_test,y_pred),axis=1), columns=[\"Actual\",\"Predicted\"])\n",
    "\n",
    "print (df[:5])\n",
    "  \n",
    "def loss_mse(y_pred, y_test):\n",
    "  n = len(y_pred)\n",
    "  total = (y_pred-y_test).T.dot(y_pred-y_test)\n",
    "  loss = 1/n* total\n",
    "  return loss\n",
    "\n",
    "loss = loss_mse(y_pred, y_test)\n",
    "print(\"Loss Test Set\", loss)\n",
    "\n",
    "y_pred_train = reg_train.predict(X_train)\n",
    "loss = loss_mse(y_pred_train, y_train)\n",
    "print(\"Loss Train set:\", loss)\n",
    "\n",
    "from sklearn import metrics\n",
    "print('Mean Absolute Error:', metrics.mean_absolute_error(y_test, y_pred))\n",
    "print('Mean Squared Error:', metrics.mean_squared_error(y_test, y_pred))\n",
    "print('Root Mean Squared Error:', np.sqrt(metrics.mean_squared_error(y_test, y_pred)))\n"
   ]
  },
  {
   "cell_type": "code",
   "execution_count": null,
   "id": "koCU9xEBMs5S",
   "metadata": {
    "colab": {
     "base_uri": "https://localhost:8080/",
     "height": 530
    },
    "id": "koCU9xEBMs5S",
    "outputId": "3738b947-cde5-4d83-fcf9-2090a1b17cbe"
   },
   "outputs": [],
   "source": [
    "#attempt at visualization\n",
    "def scatterplot_wmodel(x,y,f_pred):\n",
    "  plt.scatter(x, y, s=60, c='r', marker='+', label='Class0')\n",
    "  #plt.xlabel(x.keys())\n",
    "  plt.ylabel('frp') \n",
    "\n",
    "  x_pred = np.linspace(min(x),max(x),100)\n",
    "  y_pred = f_pred(x_pred)\n",
    "  plt.plot(x_pred, y_pred)\n",
    "  plt.show()\n",
    "  plt.clf()\n",
    "\n",
    "i = 0\n",
    "for column in data_xs:\n",
    "  x= data_xs[column]\n",
    "  y = data_y  \n",
    "  x_pred = np.linspace(min(x),max(x),100)\n",
    "  y_pred = reg_train.coef_[0][i]*x_pred + reg_train.intercept_\n",
    "  plt.plot(x_pred,y_pred) \n",
    "  \n",
    "  plt.scatter(x, y, s=60, c='r', marker='+', label='Class0')\n",
    "  plt.show() \n",
    "  i += 1\n",
    "  plt.clf()\n",
    "\n"
   ]
  },
  {
   "cell_type": "markdown",
   "id": "g09RkaRIYuC4",
   "metadata": {
    "id": "g09RkaRIYuC4"
   },
   "source": [
    "## Random Forest/Decision Tree\n",
    "Attempt to use random forest/Decision tree to model the variables\n",
    "\n",
    "implemented using this: https://towardsdatascience.com/random-forest-in-python-24d0893d51c0"
   ]
  },
  {
   "cell_type": "code",
   "execution_count": null,
   "id": "HXwD86acYuxm",
   "metadata": {
    "colab": {
     "base_uri": "https://localhost:8080/"
    },
    "executionInfo": {
     "elapsed": 768,
     "status": "ok",
     "timestamp": 1618021625955,
     "user": {
      "displayName": "qing 1",
      "photoUrl": "",
      "userId": "17349177959796089200"
     },
     "user_tz": -480
    },
    "id": "HXwD86acYuxm",
    "outputId": "9d227033-cc89-4a43-f044-81087fdf5f66"
   },
   "outputs": [],
   "source": [
    "print(type(y_train))\n",
    "print(type(X_train))\n",
    "\n",
    "##convert to numpy to use with randomforest\n",
    "X_trainn = X_train.values\n",
    "y_trainn = y_train.values.reshape(-1,)\n",
    "\n",
    "print(type(y_trainn), y_trainn.shape)\n",
    "print(type(X_trainn), X_trainn.shape)\n"
   ]
  },
  {
   "cell_type": "code",
   "execution_count": null,
   "id": "o176IlgoXIQ1",
   "metadata": {
    "executionInfo": {
     "elapsed": 79572,
     "status": "ok",
     "timestamp": 1618021719260,
     "user": {
      "displayName": "qing 1",
      "photoUrl": "",
      "userId": "17349177959796089200"
     },
     "user_tz": -480
    },
    "id": "o176IlgoXIQ1"
   },
   "outputs": [],
   "source": [
    "# Import the model we are using\n",
    "from sklearn.ensemble import RandomForestRegressor\n",
    "# Instantiate model with 1000 decision trees\n",
    "rf = RandomForestRegressor(n_estimators = 20, random_state = 42)\n",
    "# Train the model on training data\n",
    "rf.fit(X_trainn, y_trainn);"
   ]
  },
  {
   "cell_type": "code",
   "execution_count": null,
   "id": "Ay69bO2Vp-Uy",
   "metadata": {
    "colab": {
     "base_uri": "https://localhost:8080/"
    },
    "executionInfo": {
     "elapsed": 4354,
     "status": "ok",
     "timestamp": 1618022909502,
     "user": {
      "displayName": "qing 1",
      "photoUrl": "",
      "userId": "17349177959796089200"
     },
     "user_tz": -480
    },
    "id": "Ay69bO2Vp-Uy",
    "outputId": "b2a218c4-443f-49c0-e528-43c5105db263"
   },
   "outputs": [],
   "source": [
    "# Use the forest's predict method on the test data\n",
    "predictions = rf.predict(X_test.values)\n",
    "# Calculate the absolute errors\n",
    "errors = abs(predictions - y_test.values.reshape(-1,))\n",
    "# Print out the mean absolute error (mae)\n",
    "print('Mean Absolute Error:', round(np.mean(errors), 2))\n",
    "\n",
    "\n",
    "df = pd.DataFrame(data=np.concatenate((y_test,predictions.reshape(-1,1), errors.reshape(-1,1)),axis=1), columns=[\"Actual\",\"Predicted\", \"Absolute Error\"])\n",
    "\n",
    "print (df[:5])"
   ]
  },
  {
   "cell_type": "code",
   "execution_count": null,
   "id": "YdijtYd2qjoM",
   "metadata": {
    "colab": {
     "base_uri": "https://localhost:8080/"
    },
    "executionInfo": {
     "elapsed": 1049,
     "status": "ok",
     "timestamp": 1618023194146,
     "user": {
      "displayName": "qing 1",
      "photoUrl": "",
      "userId": "17349177959796089200"
     },
     "user_tz": -480
    },
    "id": "YdijtYd2qjoM",
    "outputId": "4d357142-0653-4cfa-d196-442a5a044136"
   },
   "outputs": [],
   "source": [
    "# Calculate mean absolute percentage error (MAPE) modified to account for zeros in the actual readings\n",
    "mape = 100 * (errors / ((abs(y_test.values.reshape(-1,))+abs(predictions))/2))\n",
    "# Calculate and display accuracy\n",
    "accuracy = 100 - np.mean(mape)\n",
    "\n",
    "print('Accuracy:', round(accuracy, 2), '%.')"
   ]
  },
  {
   "cell_type": "code",
   "execution_count": null,
   "id": "b1f46aa9",
   "metadata": {},
   "outputs": [],
   "source": [
    "import graphviz\n",
    "from sklearn.tree import export_graphviz\n",
    "\n",
    "# Train the Decision Tree Classifier model\n",
    "# dectree.fit(X_train, y_train)\n",
    "\n",
    "# Export the Decision Tree as a dot object\n",
    "treedot = export_graphviz(rf.estimators_[0],                                      # the model\n",
    "                          feature_names = X_train.columns,              # the features \n",
    "                          out_file = None,                              # output file\n",
    "                          filled = True,                                # node colors\n",
    "                          rounded = True,                               # make pretty\n",
    "                          special_characters = True,                    # postscript\n",
    "                          max_depth = 5)                    \n",
    "\n",
    "# Render using graphviz\n",
    "graphviz.Source(treedot)"
   ]
  },
  {
   "cell_type": "code",
   "execution_count": null,
   "id": "7OGmQuX1tQqG",
   "metadata": {
    "executionInfo": {
     "elapsed": 1290736,
     "status": "ok",
     "timestamp": 1618024694418,
     "user": {
      "displayName": "qing 1",
      "photoUrl": "",
      "userId": "17349177959796089200"
     },
     "user_tz": -480
    },
    "id": "7OGmQuX1tQqG"
   },
   "outputs": [],
   "source": [
    "# feature_list = X_train.columns\n",
    "\n",
    "# # Import tools needed for visualization\n",
    "# from sklearn.tree import export_graphviz\n",
    "# import pydot\n",
    "# # Pull out one tree from the forest\n",
    "# tree = rf.estimators_[5]\n",
    "# export_graphviz(tree, out_file = 'tree.dot', feature_names = feature_list, rounded = True, precision = 1)\n"
   ]
  },
  {
   "cell_type": "code",
   "execution_count": null,
   "id": "4DJgcbEP0oW4",
   "metadata": {
    "id": "4DJgcbEP0oW4"
   },
   "outputs": [],
   "source": [
    "# #run with caution Already generated in folder\n",
    "# # Use dot file to create a graph\n",
    "# # oh no this takes forever to excute - estimated time = 4mins\n",
    "# (graph, ) = pydot.graph_from_dot_file('tree.dot')\n",
    "# # Write graph to a png file - estimated time >15mins\n",
    "# graph.write_png('tree.png')"
   ]
  },
  {
   "cell_type": "markdown",
   "id": "cbUrg3l9ZL-H",
   "metadata": {
    "id": "cbUrg3l9ZL-H"
   },
   "source": [
    "##Neural Network Implementation\n",
    "Try a neural network I guess here"
   ]
  },
  {
   "cell_type": "code",
   "execution_count": null,
   "id": "2zokdwrOtqET",
   "metadata": {
    "id": "2zokdwrOtqET"
   },
   "outputs": [],
   "source": [
    "#turn frp into categorical data? \n",
    "#I honestly have no clue how to do it\n",
    "#cos neural network is mostly for y is categorical data I feel\n"
   ]
  },
  {
   "cell_type": "markdown",
   "id": "VnxUpGyiY4ds",
   "metadata": {
    "id": "VnxUpGyiY4ds"
   },
   "source": [
    "## Polynomial Model with Cross-Fold Validation\n",
    "Cross-Fold Validation is used to optimize for the d variable"
   ]
  },
  {
   "cell_type": "markdown",
   "id": "_mblQ9yctzCK",
   "metadata": {
    "id": "_mblQ9yctzCK"
   },
   "source": [
    "# 6 | Models - Unsupervised Learning\n",
    "K-means clustering to identify hotspots from one day of datapoints"
   ]
  },
  {
   "cell_type": "code",
   "execution_count": null,
   "id": "VFaxN_TJy8q3",
   "metadata": {
    "colab": {
     "base_uri": "https://localhost:8080/",
     "height": 390
    },
    "executionInfo": {
     "elapsed": 661,
     "status": "ok",
     "timestamp": 1618024850276,
     "user": {
      "displayName": "qing 1",
      "photoUrl": "",
      "userId": "17349177959796089200"
     },
     "user_tz": -480
    },
    "id": "VFaxN_TJy8q3",
    "outputId": "1e85c933-a00b-4434-eafe-058101df8b9a"
   },
   "outputs": [],
   "source": [
    "data[:5]"
   ]
  },
  {
   "cell_type": "code",
   "execution_count": null,
   "id": "qOeW_aX5tyaH",
   "metadata": {
    "executionInfo": {
     "elapsed": 825,
     "status": "ok",
     "timestamp": 1618025801051,
     "user": {
      "displayName": "qing 1",
      "photoUrl": "",
      "userId": "17349177959796089200"
     },
     "user_tz": -480
    },
    "id": "qOeW_aX5tyaH"
   },
   "outputs": [],
   "source": [
    "#cleaning the data, the relevant data is just lat, long and frp, confidence\n",
    "#need to restructure the data such that it separates out the dates\n",
    "\n",
    "data_c = data[['latitude', 'longitude', 'frp', 'confidence']].groupby(data['acq_date'])\n",
    "\n",
    "data_w = list(data_c)[0][1]"
   ]
  },
  {
   "cell_type": "code",
   "execution_count": null,
   "id": "kWYiYmYd2RZl",
   "metadata": {
    "id": "kWYiYmYd2RZl"
   },
   "outputs": [],
   "source": [
    "fig1 = px.scatter_geo(data_w, \n",
    "                    lat='latitude', \n",
    "                    lon='longitude', \n",
    "                    scope='asia',\n",
    "                    center={'lat':2.2180,'lon':115.6628}, # centered to SEA\n",
    "                    color='frp',)\n",
    "fig1.show()"
   ]
  },
  {
   "cell_type": "markdown",
   "id": "JoyU3lBm3u2C",
   "metadata": {
    "id": "JoyU3lBm3u2C"
   },
   "source": [
    "To conduct clustering, we need to find a suitable algorithm which is fast enough to deal with the number of data points we have.\n",
    "</p>"
   ]
  },
  {
   "cell_type": "code",
   "execution_count": null,
   "id": "FGmPwtgm3DHw",
   "metadata": {
    "colab": {
     "base_uri": "https://localhost:8080/"
    },
    "executionInfo": {
     "elapsed": 838,
     "status": "ok",
     "timestamp": 1618026215128,
     "user": {
      "displayName": "qing 1",
      "photoUrl": "",
      "userId": "17349177959796089200"
     },
     "user_tz": -480
    },
    "id": "FGmPwtgm3DHw",
    "outputId": "b826fa74-a045-4eea-b306-93141932241f"
   },
   "outputs": [],
   "source": [
    "print(\"Number of data points we have=\", data_w.shape[0])"
   ]
  },
  {
   "cell_type": "code",
   "execution_count": null,
   "id": "94Kx1vF6CYtg",
   "metadata": {
    "id": "94Kx1vF6CYtg"
   },
   "outputs": [],
   "source": []
  },
  {
   "cell_type": "code",
   "execution_count": null,
   "id": "Wrc64LlG4kcw",
   "metadata": {
    "colab": {
     "base_uri": "https://localhost:8080/",
     "height": 265
    },
    "executionInfo": {
     "elapsed": 956,
     "status": "ok",
     "timestamp": 1618026380505,
     "user": {
      "displayName": "qing 1",
      "photoUrl": "",
      "userId": "17349177959796089200"
     },
     "user_tz": -480
    },
    "id": "Wrc64LlG4kcw",
    "outputId": "78ad73ae-7764-49fc-a247-3409f3d049e5"
   },
   "outputs": [],
   "source": [
    "from scipy.cluster.vq import vq, kmeans, whiten\n",
    "# from numpy import array\n",
    "# import matplotlib.pyplot as plt\n",
    "features  = array([[ 1.9,2.3],\n",
    "                   [ 1.5,2.5],\n",
    "                   [ 0.8,0.6],\n",
    "                   [ 0.4,1.8],\n",
    "                   [ 0.1,0.1],\n",
    "                   [ 0.2,1.8],\n",
    "                   [ 2.0,0.5],\n",
    "                   [ 0.3,1.5],\n",
    "                   [ 1.0,1.0]])\n",
    "whitened = whiten(features)\n",
    "book = np.array((whitened[0],whitened[2]))\n",
    "kmeans(whitened,book)\n",
    "\n",
    "from numpy import random\n",
    "random.seed((1000,2000))\n",
    "codes = 3\n",
    "kmeans(whitened,codes)\n",
    "\n",
    "# Create 50 datapoints in two clusters a and b\n",
    "pts = 50\n",
    "a = np.random.multivariate_normal([0, 0], [[4, 1], [1, 4]], size=pts)\n",
    "b = np.random.multivariate_normal([30, 10],\n",
    "                                  [[10, 2], [2, 1]],\n",
    "                                  size=pts)\n",
    "features = np.concatenate((a, b))\n",
    "# Whiten data\n",
    "whitened = whiten(features)\n",
    "# Find 2 clusters in the data\n",
    "codebook, distortion = kmeans(whitened, 2)\n",
    "# Plot whitened data and cluster centers in red\n",
    "plt.scatter(whitened[:, 0], whitened[:, 1])\n",
    "plt.scatter(codebook[:, 0], codebook[:, 1], c='r')\n",
    "plt.show()"
   ]
  },
  {
   "cell_type": "markdown",
   "id": "RO3mOB_ouhAD",
   "metadata": {
    "id": "RO3mOB_ouhAD"
   },
   "source": [
    "# 7 | I'm gonna try a different dataset because this dataset is so limited :(\n"
   ]
  },
  {
   "cell_type": "code",
   "execution_count": null,
   "id": "6ah-To9juz3g",
   "metadata": {
    "id": "6ah-To9juz3g"
   },
   "outputs": [],
   "source": []
  },
  {
   "cell_type": "markdown",
   "id": "CKp2OMWnLL9u",
   "metadata": {
    "id": "CKp2OMWnLL9u"
   },
   "source": [
    "# Trash\n",
    "\n"
   ]
  },
  {
   "cell_type": "code",
   "execution_count": null,
   "id": "tIUMcByYGorh",
   "metadata": {
    "colab": {
     "base_uri": "https://localhost:8080/",
     "height": 510
    },
    "id": "tIUMcByYGorh",
    "outputId": "98d26598-34c4-480e-c2b1-d3c1efdf4a42"
   },
   "outputs": [],
   "source": [
    "from sklearn.model_selection import train_test_split\n",
    "from sklearn import svm\n",
    "\n",
    "X_train, X_test, y_train, y_test = train_test_split(data_xs, data_y, test_size=0.4, random_state=0)\n",
    "\n",
    "print(X_train.shape, y_train.shape)\n",
    "print(X_test.shape, y_test.shape)\n",
    "\n",
    "\n",
    "##svm doesnt work because its meant for classification\n",
    "clf = svm.SVC(kernel='linear', C=1).fit(X_train, y_train)\n",
    "clf.score(X_test, y_test)"
   ]
  },
  {
   "cell_type": "markdown",
   "id": "ys8bfo5-Y2Z-",
   "metadata": {
    "id": "ys8bfo5-Y2Z-"
   },
   "source": []
  },
  {
   "cell_type": "markdown",
   "id": "0530aaee",
   "metadata": {},
   "source": [
    "## TEST ZONE"
   ]
  },
  {
   "cell_type": "code",
   "execution_count": null,
   "id": "f3a69474",
   "metadata": {},
   "outputs": [],
   "source": [
    "# Split dataset into train, test, val data with a 60-20-20 split\n",
    "from sklearn.model_selection import train_test_split\n",
    "\n",
    "# include random seed to fix randomization\n",
    "X_train, X_test, y_train, y_test = train_test_split(X,y,test_size=0.4,random_state=0) # split out train data \n",
    "X_test, X_val, y_test, y_val = train_test_split(X_test,y_test,test_size=0.5,random_state=0) # split test, val data\n",
    "\n",
    "# Check shape\n",
    "print (\"Shape of Train Dataset (X,y):\", X_train.shape, \",\", y_train.shape)\n",
    "print (\"Shape of Test Dataset (X,y):\", X_test.shape, \",\", y_test.shape)\n",
    "print (\"Shape of Val Dataset (X,y):\", X_val.shape, \",\", y_val.shape)"
   ]
  },
  {
   "cell_type": "code",
   "execution_count": null,
   "id": "226154a5",
   "metadata": {},
   "outputs": [],
   "source": [
    "# sigmoid function\n",
    "def sigmoid(z):\n",
    "    sigmoid_f = 1 / (1 + np.exp(-z)) \n",
    "    return sigmoid_f \n",
    "\n",
    "\n",
    "# predictive function definition\n",
    "def f_pred(X,w): \n",
    "    p = sigmoid(X.dot(w)) \n",
    "    return p\n",
    "\n",
    "\n",
    "# loss function definition\n",
    "def loss_logreg(y_pred,y): \n",
    "    n = len(y)\n",
    "    loss = -1/n* ( y.T.dot(np.log(y_pred)) + (1-y).T.dot(np.log(1-y_pred)) ) \n",
    "    return loss\n",
    "\n",
    "\n",
    "# gradient function definition\n",
    "def grad_loss(y_pred,y,X):\n",
    "    n = len(y)\n",
    "    grad = 1/n* X.T.dot(y_pred-y) \n",
    "    return grad\n",
    "\n",
    "\n",
    "# gradient descent function definition\n",
    "def grad_desc(X, y , w_init, tau, max_iter):\n",
    "\n",
    "    L_iters = np.zeros([max_iter]) # record the loss values\n",
    "    w = w_init # initialization\n",
    "    for i in range(max_iter): # loop over the iterations\n",
    "        y_pred = f_pred(X,w) # linear predicition function   \n",
    "        grad_f = grad_loss(y_pred,y,X) # gradient of the loss  \n",
    "        w = w - tau* grad_f # update rule of gradient descent  \n",
    "        L_iters[i] = loss_logreg(y_pred,y) # save the current loss value \n",
    "        \n",
    "    return w, L_iters"
   ]
  },
  {
   "cell_type": "code",
   "execution_count": null,
   "id": "e993d1f4",
   "metadata": {},
   "outputs": [],
   "source": [
    "logreg_sklearn = LogisticRegression(C=1e6) # scikit-learn logistic regression\n",
    "logreg_sklearn.fit(data[:,0:2], data[:,2]) # learn the model parameters\n",
    "\n",
    "# compute loss value\n",
    "w_sklearn = np.zeros([3,1])\n",
    "w_sklearn[0,0] = logreg_sklearn.intercept_\n",
    "w_sklearn[1:3,0] = logreg_sklearn.coef_\n",
    "print(w_sklearn)\n",
    "loss_sklearn = loss_logreg(f_pred(X,w_sklearn),data[:,2][:,None])\n",
    "print('loss sklearn=',loss_sklearn)\n",
    "print('loss gradient descent=',L_iters[-1]) "
   ]
  },
  {
   "cell_type": "code",
   "execution_count": null,
   "id": "e2654e4a",
   "metadata": {},
   "outputs": [],
   "source": [
    "print (X_train.shape[0])\n",
    "X_train=X_train.to_numpy()"
   ]
  },
  {
   "cell_type": "code",
   "execution_count": null,
   "id": "6545f1fc",
   "metadata": {},
   "outputs": [],
   "source": [
    "a = X_train.shape[0]\n",
    "b = X_train.shape[1]\n",
    "X = np.ones([a,b+1])\n",
    "X[:,1:b+1] = X_train[:,0:b]\n",
    "print(X.shape)\n",
    "y = y_train.to_numpy().ravel()\n",
    "print(y.shape)"
   ]
  },
  {
   "cell_type": "code",
   "execution_count": null,
   "id": "f49abe69",
   "metadata": {},
   "outputs": [],
   "source": [
    "from sklearn.linear_model import LogisticRegression\n",
    "logreg_sklearn = LogisticRegression(C=1e6) # scikit-learn logistic regression\n",
    "logreg_sklearn.fit(X, y) # learn the model parameters\n",
    "\n",
    "# # compute loss value\n",
    "# w_sklearn = np.zeros([3,1])\n",
    "# w_sklearn[0,0] = logreg_sklearn.intercept_\n",
    "# w_sklearn[1:3,0] = logreg_sklearn.coef_\n",
    "# print(w_sklearn)\n",
    "# loss_sklearn = loss_logreg(f_pred(X,w_sklearn),data[:,2][:,None])\n",
    "# print('loss sklearn=',loss_sklearn)\n",
    "# print('loss gradient descent=',L_iters[-1]) "
   ]
  }
 ],
 "metadata": {
  "colab": {
   "collapsed_sections": [],
   "name": "Project.ipynb",
   "provenance": [],
   "toc_visible": true
  },
  "kernelspec": {
   "display_name": "Python 3",
   "language": "python",
   "name": "python3"
  },
  "language_info": {
   "codemirror_mode": {
    "name": "ipython",
    "version": 3
   },
   "file_extension": ".py",
   "mimetype": "text/x-python",
   "name": "python",
   "nbconvert_exporter": "python",
   "pygments_lexer": "ipython3",
   "version": "3.6.13"
  },
  "metadata": {
   "interpreter": {
    "hash": "0a84f4e9513e11ca67866431d8df20f43fe616bff8acff9def79f28cd0bb3c91"
   }
  }
 },
 "nbformat": 4,
 "nbformat_minor": 5
}
